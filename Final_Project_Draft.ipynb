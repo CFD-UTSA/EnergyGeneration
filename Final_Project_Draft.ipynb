{
 "cells": [
  {
   "cell_type": "code",
   "execution_count": 1,
   "metadata": {},
   "outputs": [],
   "source": [
    "# Importing necessary modules\n",
    "import pandas as pd\n",
    "import matplotlib.pyplot as plt\n",
    "import numpy as np\n",
    "import seaborn as sn\n",
    "import datetime as dt #for organizing data by date info\n",
    "from IPython.core.display import display\n",
    "from numpy.fft import fft, ifft  #for fft analysis"
   ]
  },
  {
   "cell_type": "code",
   "execution_count": 2,
   "metadata": {},
   "outputs": [],
   "source": [
    "# Extract Data\n",
    "energydata = pd.read_csv (r'C:\\Users\\rajpa\\Final_Project\\generation.csv')\n",
    "\n",
    "# Removing the top three rows as they are just additional descriptive headings\n",
    "energydata = energydata.drop([0,1,2], axis = 0)"
   ]
  },
  {
   "cell_type": "code",
   "execution_count": 3,
   "metadata": {},
   "outputs": [
    {
     "data": {
      "text/html": [
       "<div>\n",
       "<style scoped>\n",
       "    .dataframe tbody tr th:only-of-type {\n",
       "        vertical-align: middle;\n",
       "    }\n",
       "\n",
       "    .dataframe tbody tr th {\n",
       "        vertical-align: top;\n",
       "    }\n",
       "\n",
       "    .dataframe thead th {\n",
       "        text-align: right;\n",
       "    }\n",
       "</style>\n",
       "<table border=\"1\" class=\"dataframe\">\n",
       "  <thead>\n",
       "    <tr style=\"text-align: right;\">\n",
       "      <th></th>\n",
       "      <th>EntityId</th>\n",
       "      <th>IsOfficial</th>\n",
       "      <th>isProjection</th>\n",
       "      <th>ShortName</th>\n",
       "      <th>Title</th>\n",
       "      <th>PublicationYear</th>\n",
       "      <th>Year</th>\n",
       "      <th>Technology</th>\n",
       "      <th>TechnologySubtype</th>\n",
       "      <th>PublicationUrl</th>\n",
       "      <th>...</th>\n",
       "      <th>FuelNote</th>\n",
       "      <th>GeneralOMNote</th>\n",
       "      <th>HeatRateNote</th>\n",
       "      <th>GeneralCostsNote</th>\n",
       "      <th>GeneralHeatRateEffNote</th>\n",
       "      <th>TechnologyNote</th>\n",
       "      <th>GeneralNote</th>\n",
       "      <th>AvgCapacityFactorNote</th>\n",
       "      <th>OnghtCptlCostDolPerKwNote</th>\n",
       "      <th>Scenario</th>\n",
       "    </tr>\n",
       "  </thead>\n",
       "  <tbody>\n",
       "    <tr>\n",
       "      <th>3</th>\n",
       "      <td>21178</td>\n",
       "      <td>0</td>\n",
       "      <td>1.0</td>\n",
       "      <td>EPA 2010</td>\n",
       "      <td>Environmental Protection Agency (2010). Data f...</td>\n",
       "      <td>2010</td>\n",
       "      <td>2027</td>\n",
       "      <td>Biopower</td>\n",
       "      <td>Biogas</td>\n",
       "      <td>http://www.epa.gov/airmarkt/progsregs/epa-ipm/...</td>\n",
       "      <td>...</td>\n",
       "      <td>NaN</td>\n",
       "      <td>NaN</td>\n",
       "      <td>NaN</td>\n",
       "      <td>NaN</td>\n",
       "      <td>NaN</td>\n",
       "      <td>NaN</td>\n",
       "      <td>NaN</td>\n",
       "      <td>NaN</td>\n",
       "      <td>NaN</td>\n",
       "      <td>NaN</td>\n",
       "    </tr>\n",
       "    <tr>\n",
       "      <th>4</th>\n",
       "      <td>21179</td>\n",
       "      <td>0</td>\n",
       "      <td>1.0</td>\n",
       "      <td>EPA 2010</td>\n",
       "      <td>Environmental Protection Agency (2010). Data f...</td>\n",
       "      <td>2010</td>\n",
       "      <td>2028</td>\n",
       "      <td>Biopower</td>\n",
       "      <td>Biogas</td>\n",
       "      <td>http://www.epa.gov/airmarkt/progsregs/epa-ipm/...</td>\n",
       "      <td>...</td>\n",
       "      <td>NaN</td>\n",
       "      <td>NaN</td>\n",
       "      <td>NaN</td>\n",
       "      <td>NaN</td>\n",
       "      <td>NaN</td>\n",
       "      <td>NaN</td>\n",
       "      <td>NaN</td>\n",
       "      <td>NaN</td>\n",
       "      <td>NaN</td>\n",
       "      <td>NaN</td>\n",
       "    </tr>\n",
       "    <tr>\n",
       "      <th>5</th>\n",
       "      <td>21180</td>\n",
       "      <td>0</td>\n",
       "      <td>1.0</td>\n",
       "      <td>EPA 2010</td>\n",
       "      <td>Environmental Protection Agency (2010). Data f...</td>\n",
       "      <td>2010</td>\n",
       "      <td>2029</td>\n",
       "      <td>Biopower</td>\n",
       "      <td>Biogas</td>\n",
       "      <td>http://www.epa.gov/airmarkt/progsregs/epa-ipm/...</td>\n",
       "      <td>...</td>\n",
       "      <td>NaN</td>\n",
       "      <td>NaN</td>\n",
       "      <td>NaN</td>\n",
       "      <td>NaN</td>\n",
       "      <td>NaN</td>\n",
       "      <td>NaN</td>\n",
       "      <td>NaN</td>\n",
       "      <td>NaN</td>\n",
       "      <td>NaN</td>\n",
       "      <td>NaN</td>\n",
       "    </tr>\n",
       "    <tr>\n",
       "      <th>6</th>\n",
       "      <td>21181</td>\n",
       "      <td>0</td>\n",
       "      <td>1.0</td>\n",
       "      <td>EPA 2010</td>\n",
       "      <td>Environmental Protection Agency (2010). Data f...</td>\n",
       "      <td>2010</td>\n",
       "      <td>2030</td>\n",
       "      <td>Biopower</td>\n",
       "      <td>Biogas</td>\n",
       "      <td>http://www.epa.gov/airmarkt/progsregs/epa-ipm/...</td>\n",
       "      <td>...</td>\n",
       "      <td>NaN</td>\n",
       "      <td>NaN</td>\n",
       "      <td>NaN</td>\n",
       "      <td>NaN</td>\n",
       "      <td>NaN</td>\n",
       "      <td>NaN</td>\n",
       "      <td>NaN</td>\n",
       "      <td>NaN</td>\n",
       "      <td>NaN</td>\n",
       "      <td>NaN</td>\n",
       "    </tr>\n",
       "    <tr>\n",
       "      <th>7</th>\n",
       "      <td>21182</td>\n",
       "      <td>0</td>\n",
       "      <td>1.0</td>\n",
       "      <td>EPA 2010</td>\n",
       "      <td>Environmental Protection Agency (2010). Data f...</td>\n",
       "      <td>2010</td>\n",
       "      <td>2031</td>\n",
       "      <td>Biopower</td>\n",
       "      <td>Biogas</td>\n",
       "      <td>http://www.epa.gov/airmarkt/progsregs/epa-ipm/...</td>\n",
       "      <td>...</td>\n",
       "      <td>NaN</td>\n",
       "      <td>NaN</td>\n",
       "      <td>NaN</td>\n",
       "      <td>NaN</td>\n",
       "      <td>NaN</td>\n",
       "      <td>NaN</td>\n",
       "      <td>NaN</td>\n",
       "      <td>NaN</td>\n",
       "      <td>NaN</td>\n",
       "      <td>NaN</td>\n",
       "    </tr>\n",
       "  </tbody>\n",
       "</table>\n",
       "<p>5 rows × 63 columns</p>\n",
       "</div>"
      ],
      "text/plain": [
       "  EntityId IsOfficial  isProjection ShortName  \\\n",
       "3    21178          0           1.0  EPA 2010   \n",
       "4    21179          0           1.0  EPA 2010   \n",
       "5    21180          0           1.0  EPA 2010   \n",
       "6    21181          0           1.0  EPA 2010   \n",
       "7    21182          0           1.0  EPA 2010   \n",
       "\n",
       "                                               Title PublicationYear  Year  \\\n",
       "3  Environmental Protection Agency (2010). Data f...            2010  2027   \n",
       "4  Environmental Protection Agency (2010). Data f...            2010  2028   \n",
       "5  Environmental Protection Agency (2010). Data f...            2010  2029   \n",
       "6  Environmental Protection Agency (2010). Data f...            2010  2030   \n",
       "7  Environmental Protection Agency (2010). Data f...            2010  2031   \n",
       "\n",
       "  Technology TechnologySubtype  \\\n",
       "3   Biopower            Biogas   \n",
       "4   Biopower            Biogas   \n",
       "5   Biopower            Biogas   \n",
       "6   Biopower            Biogas   \n",
       "7   Biopower            Biogas   \n",
       "\n",
       "                                      PublicationUrl  ... FuelNote  \\\n",
       "3  http://www.epa.gov/airmarkt/progsregs/epa-ipm/...  ...      NaN   \n",
       "4  http://www.epa.gov/airmarkt/progsregs/epa-ipm/...  ...      NaN   \n",
       "5  http://www.epa.gov/airmarkt/progsregs/epa-ipm/...  ...      NaN   \n",
       "6  http://www.epa.gov/airmarkt/progsregs/epa-ipm/...  ...      NaN   \n",
       "7  http://www.epa.gov/airmarkt/progsregs/epa-ipm/...  ...      NaN   \n",
       "\n",
       "  GeneralOMNote HeatRateNote GeneralCostsNote GeneralHeatRateEffNote  \\\n",
       "3           NaN          NaN              NaN                    NaN   \n",
       "4           NaN          NaN              NaN                    NaN   \n",
       "5           NaN          NaN              NaN                    NaN   \n",
       "6           NaN          NaN              NaN                    NaN   \n",
       "7           NaN          NaN              NaN                    NaN   \n",
       "\n",
       "  TechnologyNote GeneralNote AvgCapacityFactorNote OnghtCptlCostDolPerKwNote  \\\n",
       "3            NaN         NaN                   NaN                       NaN   \n",
       "4            NaN         NaN                   NaN                       NaN   \n",
       "5            NaN         NaN                   NaN                       NaN   \n",
       "6            NaN         NaN                   NaN                       NaN   \n",
       "7            NaN         NaN                   NaN                       NaN   \n",
       "\n",
       "  Scenario  \n",
       "3      NaN  \n",
       "4      NaN  \n",
       "5      NaN  \n",
       "6      NaN  \n",
       "7      NaN  \n",
       "\n",
       "[5 rows x 63 columns]"
      ]
     },
     "execution_count": 3,
     "metadata": {},
     "output_type": "execute_result"
    }
   ],
   "source": [
    "energydata.head()"
   ]
  },
  {
   "cell_type": "code",
   "execution_count": 4,
   "metadata": {},
   "outputs": [
    {
     "name": "stdout",
     "output_type": "stream",
     "text": [
      "The size of Energy data set is:  (10302, 63)\n"
     ]
    }
   ],
   "source": [
    "# Size of the data set\n",
    "print('The size of Energy data set is: ', energydata.shape)"
   ]
  },
  {
   "cell_type": "code",
   "execution_count": 5,
   "metadata": {},
   "outputs": [
    {
     "name": "stdout",
     "output_type": "stream",
     "text": [
      "<class 'pandas.core.frame.DataFrame'>\n",
      "Int64Index: 10302 entries, 3 to 10304\n",
      "Data columns (total 63 columns):\n",
      " #   Column                      Non-Null Count  Dtype  \n",
      "---  ------                      --------------  -----  \n",
      " 0   EntityId                    10302 non-null  object \n",
      " 1   IsOfficial                  10302 non-null  object \n",
      " 2   isProjection                10302 non-null  float64\n",
      " 3   ShortName                   10302 non-null  object \n",
      " 4   Title                       10302 non-null  object \n",
      " 5   PublicationYear             10302 non-null  object \n",
      " 6   Year                        10302 non-null  object \n",
      " 7   Technology                  10102 non-null  object \n",
      " 8   TechnologySubtype           5005 non-null   object \n",
      " 9   PublicationUrl              8641 non-null   object \n",
      " 10  Author                      10302 non-null  object \n",
      " 11  VariableOMDolPerMwh         6267 non-null   object \n",
      " 12  FixedOMDolPerKw             7100 non-null   object \n",
      " 13  lcoe                        10302 non-null  object \n",
      " 14  Fuel                        10180 non-null  object \n",
      " 15  AvgCapacityFactor           5381 non-null   object \n",
      " 16  MinCapacityFactor           1117 non-null   object \n",
      " 17  MaxCapacityFactor           1778 non-null   object \n",
      " 18  OnghtCptlCostDolPerKw       7593 non-null   object \n",
      " 19  HeatRate                    4332 non-null   object \n",
      " 20  LifetimeYears               5004 non-null   object \n",
      " 21  AvailabilityFactor          1346 non-null   object \n",
      " 22  PvMaterial                  110 non-null    object \n",
      " 23  PvAxis                      135 non-null    object \n",
      " 24  CspStorageHours             684 non-null    object \n",
      " 25  CspCoolingSystem            126 non-null    object \n",
      " 26  MktTypeComResUtility        530 non-null    object \n",
      " 27  ResourceQuality1            1370 non-null   object \n",
      " 28  ResourceQuality2            639 non-null    object \n",
      " 29  CapacityMw                  7253 non-null   object \n",
      " 30  InstalledCapacityMW         631 non-null    object \n",
      " 31  PvCurrentAcOrDc             455 non-null    object \n",
      " 32  ContingencyFactor           4993 non-null   object \n",
      " 33  OnghCptCstDlKwInclCtng      3721 non-null   object \n",
      " 34  LearningFactor              4971 non-null   object \n",
      " 35  TechnologyOptimism          4999 non-null   object \n",
      " 36  MetalsMetalProductsPpi      4951 non-null   object \n",
      " 37  OMAllInclusive              1011 non-null   object \n",
      " 38  Leadtimeyears               2360 non-null   object \n",
      " 39  ThermalEfficiency           976 non-null    object \n",
      " 40  StorageEfficiency           762 non-null    object \n",
      " 41  Co2MetricTonsPerMwh         1717 non-null   object \n",
      " 42  DtstTypMdlMktEngnrgPgm      9247 non-null   object \n",
      " 43  DolYear                     10181 non-null  object \n",
      " 44  LaborCostsAssumptions       0 non-null      object \n",
      " 45  TypeOfIncentivesIncld       461 non-null    object \n",
      " 46  DataType                    3735 non-null   object \n",
      " 47  VariableOMDolPerMwhNote     175 non-null    object \n",
      " 48  PvMaterialNote              13 non-null     object \n",
      " 49  GeneralCapacityFactorNote   0 non-null      object \n",
      " 50  DataVintageYearNote         18 non-null     object \n",
      " 51  PublicationNotes            345 non-null    object \n",
      " 52  OnghCptCstDlKwInclCtngNote  21 non-null     object \n",
      " 53  FuelNote                    2757 non-null   object \n",
      " 54  GeneralOMNote               73 non-null     object \n",
      " 55  HeatRateNote                452 non-null    object \n",
      " 56  GeneralCostsNote            566 non-null    object \n",
      " 57  GeneralHeatRateEffNote      97 non-null     object \n",
      " 58  TechnologyNote              1129 non-null   object \n",
      " 59  GeneralNote                 957 non-null    object \n",
      " 60  AvgCapacityFactorNote       860 non-null    object \n",
      " 61  OnghtCptlCostDolPerKwNote   303 non-null    object \n",
      " 62  Scenario                    1868 non-null   object \n",
      "dtypes: float64(1), object(62)\n",
      "memory usage: 5.0+ MB\n"
     ]
    }
   ],
   "source": [
    "# Find the columns and their datatypes\n",
    "energydata.info()"
   ]
  },
  {
   "cell_type": "markdown",
   "metadata": {},
   "source": [
    "There are 10302 rows for different Energy Generation technologies providing a variety of raw cost and performance numbers (current and future projections) that can be further used to calculated other metrics and analyze using graphs to visualize the differences."
   ]
  },
  {
   "cell_type": "code",
   "execution_count": 6,
   "metadata": {},
   "outputs": [
    {
     "data": {
      "text/plain": [
       "['Biopower',\n",
       " 'Geothermal',\n",
       " 'Photovoltaic',\n",
       " 'Solar Thermal',\n",
       " 'Combined Cycle',\n",
       " 'Combustion Turbine',\n",
       " 'Hydroelectric',\n",
       " 'Distributed Generation',\n",
       " 'Fuel Cell',\n",
       " 'Coal',\n",
       " 'Nuclear',\n",
       " 'Land-Based Wind',\n",
       " 'Wind-Offshore',\n",
       " nan,\n",
       " 'Storage',\n",
       " 'Ocean',\n",
       " 'Small Hydro',\n",
       " 'Land-based Wind']"
      ]
     },
     "execution_count": 6,
     "metadata": {},
     "output_type": "execute_result"
    }
   ],
   "source": [
    "# Finding unique energy generation technologies\n",
    "energydata['Technology'].unique().tolist()"
   ]
  },
  {
   "cell_type": "code",
   "execution_count": 7,
   "metadata": {},
   "outputs": [
    {
     "data": {
      "text/plain": [
       "18"
      ]
     },
     "execution_count": 7,
     "metadata": {},
     "output_type": "execute_result"
    }
   ],
   "source": [
    "# Number of unique energy generation technologies\n",
    "len(energydata['Technology'].unique().tolist())"
   ]
  },
  {
   "cell_type": "markdown",
   "metadata": {},
   "source": [
    "As it can be seen in the above output that there are about 18 unique energy generation technologies that will be analyzed but one of them is NaN so it will be filtered out when performing analysis and other one is \"storage\" as it is a storage technology."
   ]
  },
  {
   "cell_type": "code",
   "execution_count": 8,
   "metadata": {},
   "outputs": [
    {
     "data": {
      "text/plain": [
       "['Biogas',\n",
       " nan,\n",
       " 'Advanced CC CCS',\n",
       " 'Advanced Combustion Turbine',\n",
       " 'Advanced CC',\n",
       " 'Conventional Combustion Turbine',\n",
       " 'Conventional CC',\n",
       " 'Conventional',\n",
       " 'Flash',\n",
       " 'IGCC',\n",
       " 'IGCC CCS',\n",
       " 'Advanced PC',\n",
       " 'Enhanced Geothermal System',\n",
       " 'Binary',\n",
       " 'Battery',\n",
       " 'Compressed Air',\n",
       " 'Coal Co-fire',\n",
       " 'Ice Storage',\n",
       " 'Pumped Hydro',\n",
       " 'Advanced PC CCS',\n",
       " 'Conventional PC',\n",
       " 'Marine Hydro-Kinetic',\n",
       " 'Residential',\n",
       " 'Utility',\n",
       " 'Tower',\n",
       " 'Trough',\n",
       " 'Blind',\n",
       " 'Fixed Platform',\n",
       " 'Commercial',\n",
       " 'Fluidized Bed',\n",
       " 'Advanced Nuclear',\n",
       " 'MSW',\n",
       " 'Diesel',\n",
       " 'Microturbine',\n",
       " 'Stoker boiler',\n",
       " 'Stoker CHP',\n",
       " 'Gasifier CHP',\n",
       " 'Digester',\n",
       " 'Base',\n",
       " 'Peak',\n",
       " 'Hydrogen',\n",
       " 'SMES',\n",
       " 'Flywheel',\n",
       " 'Ultracapacitors',\n",
       " 'residential',\n",
       " 'conventional CC',\n",
       " 'Tidal Current',\n",
       " 'Wave Point',\n",
       " 'Ocean Current',\n",
       " 'Small, 10 ft net head',\n",
       " 'Small, 20 ft net head',\n",
       " 'Floating Platform']"
      ]
     },
     "execution_count": 8,
     "metadata": {},
     "output_type": "execute_result"
    }
   ],
   "source": [
    "# Visualize the subtypes of technologies\n",
    "energydata['TechnologySubtype'].unique().tolist()"
   ]
  },
  {
   "cell_type": "code",
   "execution_count": 9,
   "metadata": {},
   "outputs": [
    {
     "data": {
      "text/html": [
       "<div>\n",
       "<style scoped>\n",
       "    .dataframe tbody tr th:only-of-type {\n",
       "        vertical-align: middle;\n",
       "    }\n",
       "\n",
       "    .dataframe tbody tr th {\n",
       "        vertical-align: top;\n",
       "    }\n",
       "\n",
       "    .dataframe thead th {\n",
       "        text-align: right;\n",
       "    }\n",
       "</style>\n",
       "<table border=\"1\" class=\"dataframe\">\n",
       "  <thead>\n",
       "    <tr style=\"text-align: right;\">\n",
       "      <th></th>\n",
       "      <th>Year</th>\n",
       "      <th>PublicationYear</th>\n",
       "      <th>Technology</th>\n",
       "      <th>TechnologySubtype</th>\n",
       "      <th>VariableOMDolPerMwh</th>\n",
       "      <th>FixedOMDolPerKw</th>\n",
       "      <th>lcoe</th>\n",
       "      <th>AvgCapacityFactor</th>\n",
       "      <th>MinCapacityFactor</th>\n",
       "      <th>MaxCapacityFactor</th>\n",
       "      <th>...</th>\n",
       "      <th>HeatRate</th>\n",
       "      <th>LifetimeYears</th>\n",
       "      <th>AvailabilityFactor</th>\n",
       "      <th>CapacityMw</th>\n",
       "      <th>InstalledCapacityMW</th>\n",
       "      <th>Leadtimeyears</th>\n",
       "      <th>ThermalEfficiency</th>\n",
       "      <th>StorageEfficiency</th>\n",
       "      <th>Co2MetricTonsPerMwh</th>\n",
       "      <th>DolYear</th>\n",
       "    </tr>\n",
       "  </thead>\n",
       "  <tbody>\n",
       "    <tr>\n",
       "      <th>3</th>\n",
       "      <td>2027</td>\n",
       "      <td>2010</td>\n",
       "      <td>Biopower</td>\n",
       "      <td>Biogas</td>\n",
       "      <td>0.01</td>\n",
       "      <td>114.3</td>\n",
       "      <td>0.08549</td>\n",
       "      <td>NaN</td>\n",
       "      <td>NaN</td>\n",
       "      <td>NaN</td>\n",
       "      <td>...</td>\n",
       "      <td>13648</td>\n",
       "      <td>NaN</td>\n",
       "      <td>NaN</td>\n",
       "      <td>30</td>\n",
       "      <td>NaN</td>\n",
       "      <td>NaN</td>\n",
       "      <td>NaN</td>\n",
       "      <td>NaN</td>\n",
       "      <td>NaN</td>\n",
       "      <td>2007</td>\n",
       "    </tr>\n",
       "    <tr>\n",
       "      <th>4</th>\n",
       "      <td>2028</td>\n",
       "      <td>2010</td>\n",
       "      <td>Biopower</td>\n",
       "      <td>Biogas</td>\n",
       "      <td>0.01</td>\n",
       "      <td>114.3</td>\n",
       "      <td>0.08549</td>\n",
       "      <td>NaN</td>\n",
       "      <td>NaN</td>\n",
       "      <td>NaN</td>\n",
       "      <td>...</td>\n",
       "      <td>13648</td>\n",
       "      <td>NaN</td>\n",
       "      <td>NaN</td>\n",
       "      <td>30</td>\n",
       "      <td>NaN</td>\n",
       "      <td>NaN</td>\n",
       "      <td>NaN</td>\n",
       "      <td>NaN</td>\n",
       "      <td>NaN</td>\n",
       "      <td>2007</td>\n",
       "    </tr>\n",
       "    <tr>\n",
       "      <th>5</th>\n",
       "      <td>2029</td>\n",
       "      <td>2010</td>\n",
       "      <td>Biopower</td>\n",
       "      <td>Biogas</td>\n",
       "      <td>0.01</td>\n",
       "      <td>114.3</td>\n",
       "      <td>0.08549</td>\n",
       "      <td>NaN</td>\n",
       "      <td>NaN</td>\n",
       "      <td>NaN</td>\n",
       "      <td>...</td>\n",
       "      <td>13648</td>\n",
       "      <td>NaN</td>\n",
       "      <td>NaN</td>\n",
       "      <td>30</td>\n",
       "      <td>NaN</td>\n",
       "      <td>NaN</td>\n",
       "      <td>NaN</td>\n",
       "      <td>NaN</td>\n",
       "      <td>NaN</td>\n",
       "      <td>2007</td>\n",
       "    </tr>\n",
       "    <tr>\n",
       "      <th>6</th>\n",
       "      <td>2030</td>\n",
       "      <td>2010</td>\n",
       "      <td>Biopower</td>\n",
       "      <td>Biogas</td>\n",
       "      <td>0.01</td>\n",
       "      <td>114.3</td>\n",
       "      <td>0.07797</td>\n",
       "      <td>NaN</td>\n",
       "      <td>NaN</td>\n",
       "      <td>NaN</td>\n",
       "      <td>...</td>\n",
       "      <td>13648</td>\n",
       "      <td>NaN</td>\n",
       "      <td>NaN</td>\n",
       "      <td>30</td>\n",
       "      <td>NaN</td>\n",
       "      <td>NaN</td>\n",
       "      <td>NaN</td>\n",
       "      <td>NaN</td>\n",
       "      <td>NaN</td>\n",
       "      <td>2007</td>\n",
       "    </tr>\n",
       "    <tr>\n",
       "      <th>7</th>\n",
       "      <td>2031</td>\n",
       "      <td>2010</td>\n",
       "      <td>Biopower</td>\n",
       "      <td>Biogas</td>\n",
       "      <td>0.01</td>\n",
       "      <td>114.3</td>\n",
       "      <td>0.07797</td>\n",
       "      <td>NaN</td>\n",
       "      <td>NaN</td>\n",
       "      <td>NaN</td>\n",
       "      <td>...</td>\n",
       "      <td>13648</td>\n",
       "      <td>NaN</td>\n",
       "      <td>NaN</td>\n",
       "      <td>30</td>\n",
       "      <td>NaN</td>\n",
       "      <td>NaN</td>\n",
       "      <td>NaN</td>\n",
       "      <td>NaN</td>\n",
       "      <td>NaN</td>\n",
       "      <td>2007</td>\n",
       "    </tr>\n",
       "  </tbody>\n",
       "</table>\n",
       "<p>5 rows × 21 columns</p>\n",
       "</div>"
      ],
      "text/plain": [
       "   Year PublicationYear Technology TechnologySubtype  VariableOMDolPerMwh  \\\n",
       "3  2027            2010   Biopower            Biogas                 0.01   \n",
       "4  2028            2010   Biopower            Biogas                 0.01   \n",
       "5  2029            2010   Biopower            Biogas                 0.01   \n",
       "6  2030            2010   Biopower            Biogas                 0.01   \n",
       "7  2031            2010   Biopower            Biogas                 0.01   \n",
       "\n",
       "   FixedOMDolPerKw     lcoe  AvgCapacityFactor MinCapacityFactor  \\\n",
       "3            114.3  0.08549                NaN               NaN   \n",
       "4            114.3  0.08549                NaN               NaN   \n",
       "5            114.3  0.08549                NaN               NaN   \n",
       "6            114.3  0.07797                NaN               NaN   \n",
       "7            114.3  0.07797                NaN               NaN   \n",
       "\n",
       "  MaxCapacityFactor  ...  HeatRate LifetimeYears  AvailabilityFactor  \\\n",
       "3               NaN  ...     13648           NaN                 NaN   \n",
       "4               NaN  ...     13648           NaN                 NaN   \n",
       "5               NaN  ...     13648           NaN                 NaN   \n",
       "6               NaN  ...     13648           NaN                 NaN   \n",
       "7               NaN  ...     13648           NaN                 NaN   \n",
       "\n",
       "  CapacityMw InstalledCapacityMW Leadtimeyears  ThermalEfficiency  \\\n",
       "3         30                 NaN           NaN                NaN   \n",
       "4         30                 NaN           NaN                NaN   \n",
       "5         30                 NaN           NaN                NaN   \n",
       "6         30                 NaN           NaN                NaN   \n",
       "7         30                 NaN           NaN                NaN   \n",
       "\n",
       "   StorageEfficiency Co2MetricTonsPerMwh  DolYear  \n",
       "3                NaN                 NaN     2007  \n",
       "4                NaN                 NaN     2007  \n",
       "5                NaN                 NaN     2007  \n",
       "6                NaN                 NaN     2007  \n",
       "7                NaN                 NaN     2007  \n",
       "\n",
       "[5 rows x 21 columns]"
      ]
     },
     "execution_count": 9,
     "metadata": {},
     "output_type": "execute_result"
    }
   ],
   "source": [
    "# New dataframe with all fixes\n",
    "newdata = energydata.iloc[:,[6,5,7,8,11,12,13,15,16,17,18,19,20,21,29,30,38,39,40,41,43]]\n",
    "newdata = newdata.dropna(subset = ['Technology'])\n",
    "newdata.loc[:,'OnghtCptlCostDolPerKw'] = newdata.loc[:,'OnghtCptlCostDolPerKw'].astype(float)\n",
    "newdata.loc[:,'VariableOMDolPerMwh'] = newdata.loc[:,'VariableOMDolPerMwh'].astype(float)\n",
    "newdata.loc[:,'FixedOMDolPerKw'] = newdata.loc[:,'FixedOMDolPerKw'].astype(float)\n",
    "newdata.loc[:,'FixedOMDolPerKw'] = newdata.loc[:,'FixedOMDolPerKw'].astype(float)\n",
    "newdata.loc[:,'AvgCapacityFactor'] = newdata.loc[:,'AvgCapacityFactor'].astype(float)\n",
    "newdata.loc[:,'ThermalEfficiency'] = newdata.loc[:,'ThermalEfficiency'].astype(float)\n",
    "newdata.loc[:,'Leadtimeyears'] = newdata.loc[:,'Leadtimeyears'].astype(float)\n",
    "newdata.loc[:,'LifetimeYears'] = newdata.loc[:,'LifetimeYears'].astype(float)\n",
    "newdata.loc[:,'lcoe'] = newdata.loc[:,'lcoe'].astype(float)\n",
    "newdata.loc[:,'Co2MetricTonsPerMwh'] = newdata.loc[:,'Co2MetricTonsPerMwh'].astype(float)\n",
    "newdata['Technology']=newdata['Technology'].str.capitalize()\n",
    "newdata.drop(newdata.loc[newdata['Technology']== 'Storage'].index, inplace = True)\n",
    "newdata.head()"
   ]
  },
  {
   "cell_type": "code",
   "execution_count": 95,
   "metadata": {},
   "outputs": [
    {
     "name": "stdout",
     "output_type": "stream",
     "text": [
      "<class 'pandas.core.frame.DataFrame'>\n",
      "Int64Index: 9863 entries, 3 to 10304\n",
      "Data columns (total 21 columns):\n",
      " #   Column                 Non-Null Count  Dtype  \n",
      "---  ------                 --------------  -----  \n",
      " 0   Year                   9863 non-null   object \n",
      " 1   PublicationYear        9863 non-null   object \n",
      " 2   Technology             9863 non-null   object \n",
      " 3   TechnologySubtype      4766 non-null   object \n",
      " 4   VariableOMDolPerMwh    5913 non-null   float64\n",
      " 5   FixedOMDolPerKw        6691 non-null   float64\n",
      " 6   lcoe                   9863 non-null   float64\n",
      " 7   AvgCapacityFactor      5176 non-null   float64\n",
      " 8   MinCapacityFactor      1013 non-null   object \n",
      " 9   MaxCapacityFactor      1674 non-null   object \n",
      " 10  OnghtCptlCostDolPerKw  7154 non-null   float64\n",
      " 11  HeatRate               4080 non-null   object \n",
      " 12  LifetimeYears          4573 non-null   float64\n",
      " 13  AvailabilityFactor     1242 non-null   object \n",
      " 14  CapacityMw             7070 non-null   object \n",
      " 15  InstalledCapacityMW    527 non-null    object \n",
      " 16  Leadtimeyears          2254 non-null   float64\n",
      " 17  ThermalEfficiency      826 non-null    float64\n",
      " 18  StorageEfficiency      454 non-null    object \n",
      " 19  Co2MetricTonsPerMwh    1567 non-null   float64\n",
      " 20  DolYear                9744 non-null   object \n",
      "dtypes: float64(9), object(12)\n",
      "memory usage: 1.7+ MB\n"
     ]
    }
   ],
   "source": [
    "newdata.info()"
   ]
  },
  {
   "cell_type": "code",
   "execution_count": 10,
   "metadata": {},
   "outputs": [
    {
     "name": "stdout",
     "output_type": "stream",
     "text": [
      "The size of new data set is:  (9863, 21)\n"
     ]
    }
   ],
   "source": [
    "# Size of the new dataframe\n",
    "print('The size of new data set is: ', newdata.shape)"
   ]
  },
  {
   "cell_type": "markdown",
   "metadata": {},
   "source": [
    "As it can be seen in the above piece of code the NaN rows in the \"Technology\" column are dropped."
   ]
  },
  {
   "cell_type": "code",
   "execution_count": 11,
   "metadata": {},
   "outputs": [
    {
     "data": {
      "text/plain": [
       "['Biopower',\n",
       " 'Geothermal',\n",
       " 'Photovoltaic',\n",
       " 'Solar thermal',\n",
       " 'Combined cycle',\n",
       " 'Combustion turbine',\n",
       " 'Hydroelectric',\n",
       " 'Distributed generation',\n",
       " 'Fuel cell',\n",
       " 'Coal',\n",
       " 'Nuclear',\n",
       " 'Land-based wind',\n",
       " 'Wind-offshore',\n",
       " 'Ocean',\n",
       " 'Small hydro']"
      ]
     },
     "execution_count": 11,
     "metadata": {},
     "output_type": "execute_result"
    }
   ],
   "source": [
    "# Unique Technologies after dropping NaN\n",
    "newdata['Technology'].unique().tolist()"
   ]
  },
  {
   "cell_type": "code",
   "execution_count": 12,
   "metadata": {},
   "outputs": [
    {
     "data": {
      "text/plain": [
       "15"
      ]
     },
     "execution_count": 12,
     "metadata": {},
     "output_type": "execute_result"
    }
   ],
   "source": [
    "# Number of Unique Technologies after dropping NaN\n",
    "len(newdata['Technology'].unique().tolist())"
   ]
  },
  {
   "cell_type": "code",
   "execution_count": 13,
   "metadata": {},
   "outputs": [
    {
     "data": {
      "text/plain": [
       "['Combined cycle',\n",
       " 'Combustion turbine',\n",
       " 'Biopower',\n",
       " 'Hydroelectric',\n",
       " 'Distributed generation',\n",
       " 'Fuel cell',\n",
       " 'Geothermal',\n",
       " 'Coal',\n",
       " 'Nuclear',\n",
       " 'Photovoltaic',\n",
       " 'Solar thermal',\n",
       " 'Land-based wind',\n",
       " 'Wind-offshore',\n",
       " 'Ocean',\n",
       " 'Small hydro']"
      ]
     },
     "execution_count": 13,
     "metadata": {},
     "output_type": "execute_result"
    }
   ],
   "source": [
    "# Technologies with Overnight Capital Cost values\n",
    "OCC = newdata.dropna(subset = ['OnghtCptlCostDolPerKw'])\n",
    "OCC['Technology'].unique().tolist()"
   ]
  },
  {
   "cell_type": "code",
   "execution_count": 14,
   "metadata": {},
   "outputs": [
    {
     "data": {
      "text/plain": [
       "15"
      ]
     },
     "execution_count": 14,
     "metadata": {},
     "output_type": "execute_result"
    }
   ],
   "source": [
    "# Number of technologies with Overnight Capital Cost values\n",
    "len(OCC['Technology'].unique().tolist())"
   ]
  },
  {
   "cell_type": "markdown",
   "metadata": {},
   "source": [
    "Data manipulation for the Over Night Capital Cost per kW. Importance of OCC is...."
   ]
  },
  {
   "cell_type": "code",
   "execution_count": 15,
   "metadata": {},
   "outputs": [
    {
     "data": {
      "text/html": [
       "<div>\n",
       "<style scoped>\n",
       "    .dataframe tbody tr th:only-of-type {\n",
       "        vertical-align: middle;\n",
       "    }\n",
       "\n",
       "    .dataframe tbody tr th {\n",
       "        vertical-align: top;\n",
       "    }\n",
       "\n",
       "    .dataframe thead th {\n",
       "        text-align: right;\n",
       "    }\n",
       "</style>\n",
       "<table border=\"1\" class=\"dataframe\">\n",
       "  <thead>\n",
       "    <tr style=\"text-align: right;\">\n",
       "      <th></th>\n",
       "      <th>Technology</th>\n",
       "      <th>OnghtCptlCostDolPerKw</th>\n",
       "    </tr>\n",
       "  </thead>\n",
       "  <tbody>\n",
       "    <tr>\n",
       "      <th>0</th>\n",
       "      <td>Biopower</td>\n",
       "      <td>4772.043647</td>\n",
       "    </tr>\n",
       "    <tr>\n",
       "      <th>1</th>\n",
       "      <td>Coal</td>\n",
       "      <td>3049.073978</td>\n",
       "    </tr>\n",
       "    <tr>\n",
       "      <th>2</th>\n",
       "      <td>Combined cycle</td>\n",
       "      <td>1260.177002</td>\n",
       "    </tr>\n",
       "    <tr>\n",
       "      <th>3</th>\n",
       "      <td>Combustion turbine</td>\n",
       "      <td>715.514056</td>\n",
       "    </tr>\n",
       "    <tr>\n",
       "      <th>4</th>\n",
       "      <td>Distributed generation</td>\n",
       "      <td>1540.660619</td>\n",
       "    </tr>\n",
       "    <tr>\n",
       "      <th>5</th>\n",
       "      <td>Fuel cell</td>\n",
       "      <td>5649.020406</td>\n",
       "    </tr>\n",
       "    <tr>\n",
       "      <th>6</th>\n",
       "      <td>Geothermal</td>\n",
       "      <td>4828.952914</td>\n",
       "    </tr>\n",
       "    <tr>\n",
       "      <th>7</th>\n",
       "      <td>Hydroelectric</td>\n",
       "      <td>2567.806679</td>\n",
       "    </tr>\n",
       "    <tr>\n",
       "      <th>8</th>\n",
       "      <td>Land-based wind</td>\n",
       "      <td>1704.338659</td>\n",
       "    </tr>\n",
       "    <tr>\n",
       "      <th>9</th>\n",
       "      <td>Nuclear</td>\n",
       "      <td>4026.856362</td>\n",
       "    </tr>\n",
       "    <tr>\n",
       "      <th>10</th>\n",
       "      <td>Ocean</td>\n",
       "      <td>11031.429310</td>\n",
       "    </tr>\n",
       "    <tr>\n",
       "      <th>11</th>\n",
       "      <td>Photovoltaic</td>\n",
       "      <td>3916.254762</td>\n",
       "    </tr>\n",
       "    <tr>\n",
       "      <th>12</th>\n",
       "      <td>Small hydro</td>\n",
       "      <td>4307.888889</td>\n",
       "    </tr>\n",
       "    <tr>\n",
       "      <th>13</th>\n",
       "      <td>Solar thermal</td>\n",
       "      <td>4427.445311</td>\n",
       "    </tr>\n",
       "    <tr>\n",
       "      <th>14</th>\n",
       "      <td>Wind-offshore</td>\n",
       "      <td>3223.965690</td>\n",
       "    </tr>\n",
       "  </tbody>\n",
       "</table>\n",
       "</div>"
      ],
      "text/plain": [
       "                Technology  OnghtCptlCostDolPerKw\n",
       "0                 Biopower            4772.043647\n",
       "1                     Coal            3049.073978\n",
       "2           Combined cycle            1260.177002\n",
       "3       Combustion turbine             715.514056\n",
       "4   Distributed generation            1540.660619\n",
       "5                Fuel cell            5649.020406\n",
       "6               Geothermal            4828.952914\n",
       "7            Hydroelectric            2567.806679\n",
       "8          Land-based wind            1704.338659\n",
       "9                  Nuclear            4026.856362\n",
       "10                   Ocean           11031.429310\n",
       "11            Photovoltaic            3916.254762\n",
       "12             Small hydro            4307.888889\n",
       "13           Solar thermal            4427.445311\n",
       "14           Wind-offshore            3223.965690"
      ]
     },
     "execution_count": 15,
     "metadata": {},
     "output_type": "execute_result"
    }
   ],
   "source": [
    "# Find means of OCC\n",
    "occmean=OCC.groupby('Technology',as_index=False)['OnghtCptlCostDolPerKw'].mean()\n",
    "occmean"
   ]
  },
  {
   "cell_type": "code",
   "execution_count": 16,
   "metadata": {},
   "outputs": [
    {
     "data": {
      "text/html": [
       "<div>\n",
       "<style scoped>\n",
       "    .dataframe tbody tr th:only-of-type {\n",
       "        vertical-align: middle;\n",
       "    }\n",
       "\n",
       "    .dataframe tbody tr th {\n",
       "        vertical-align: top;\n",
       "    }\n",
       "\n",
       "    .dataframe thead th {\n",
       "        text-align: right;\n",
       "    }\n",
       "</style>\n",
       "<table border=\"1\" class=\"dataframe\">\n",
       "  <thead>\n",
       "    <tr style=\"text-align: right;\">\n",
       "      <th></th>\n",
       "      <th>Technology</th>\n",
       "      <th>OnghtCptlCostDolPerKw</th>\n",
       "    </tr>\n",
       "  </thead>\n",
       "  <tbody>\n",
       "    <tr>\n",
       "      <th>0</th>\n",
       "      <td>Biopower</td>\n",
       "      <td>16312.000000</td>\n",
       "    </tr>\n",
       "    <tr>\n",
       "      <th>1</th>\n",
       "      <td>Coal</td>\n",
       "      <td>11000.000000</td>\n",
       "    </tr>\n",
       "    <tr>\n",
       "      <th>2</th>\n",
       "      <td>Combined cycle</td>\n",
       "      <td>3800.000000</td>\n",
       "    </tr>\n",
       "    <tr>\n",
       "      <th>3</th>\n",
       "      <td>Combustion turbine</td>\n",
       "      <td>2255.000000</td>\n",
       "    </tr>\n",
       "    <tr>\n",
       "      <th>4</th>\n",
       "      <td>Distributed generation</td>\n",
       "      <td>9800.000000</td>\n",
       "    </tr>\n",
       "    <tr>\n",
       "      <th>5</th>\n",
       "      <td>Fuel cell</td>\n",
       "      <td>10000.000000</td>\n",
       "    </tr>\n",
       "    <tr>\n",
       "      <th>6</th>\n",
       "      <td>Geothermal</td>\n",
       "      <td>15752.000000</td>\n",
       "    </tr>\n",
       "    <tr>\n",
       "      <th>7</th>\n",
       "      <td>Hydroelectric</td>\n",
       "      <td>11070.000000</td>\n",
       "    </tr>\n",
       "    <tr>\n",
       "      <th>8</th>\n",
       "      <td>Land-based wind</td>\n",
       "      <td>5048.499635</td>\n",
       "    </tr>\n",
       "    <tr>\n",
       "      <th>9</th>\n",
       "      <td>Nuclear</td>\n",
       "      <td>8375.000000</td>\n",
       "    </tr>\n",
       "    <tr>\n",
       "      <th>10</th>\n",
       "      <td>Ocean</td>\n",
       "      <td>61136.000000</td>\n",
       "    </tr>\n",
       "    <tr>\n",
       "      <th>11</th>\n",
       "      <td>Photovoltaic</td>\n",
       "      <td>12151.000000</td>\n",
       "    </tr>\n",
       "    <tr>\n",
       "      <th>12</th>\n",
       "      <td>Small hydro</td>\n",
       "      <td>8948.000000</td>\n",
       "    </tr>\n",
       "    <tr>\n",
       "      <th>13</th>\n",
       "      <td>Solar thermal</td>\n",
       "      <td>11000.000000</td>\n",
       "    </tr>\n",
       "    <tr>\n",
       "      <th>14</th>\n",
       "      <td>Wind-offshore</td>\n",
       "      <td>8000.000000</td>\n",
       "    </tr>\n",
       "  </tbody>\n",
       "</table>\n",
       "</div>"
      ],
      "text/plain": [
       "                Technology  OnghtCptlCostDolPerKw\n",
       "0                 Biopower           16312.000000\n",
       "1                     Coal           11000.000000\n",
       "2           Combined cycle            3800.000000\n",
       "3       Combustion turbine            2255.000000\n",
       "4   Distributed generation            9800.000000\n",
       "5                Fuel cell           10000.000000\n",
       "6               Geothermal           15752.000000\n",
       "7            Hydroelectric           11070.000000\n",
       "8          Land-based wind            5048.499635\n",
       "9                  Nuclear            8375.000000\n",
       "10                   Ocean           61136.000000\n",
       "11            Photovoltaic           12151.000000\n",
       "12             Small hydro            8948.000000\n",
       "13           Solar thermal           11000.000000\n",
       "14           Wind-offshore            8000.000000"
      ]
     },
     "execution_count": 16,
     "metadata": {},
     "output_type": "execute_result"
    }
   ],
   "source": [
    "# Find max of OCC\n",
    "OCC.groupby('Technology',as_index=False)['OnghtCptlCostDolPerKw'].max()"
   ]
  },
  {
   "cell_type": "code",
   "execution_count": 17,
   "metadata": {},
   "outputs": [
    {
     "data": {
      "text/html": [
       "<div>\n",
       "<style scoped>\n",
       "    .dataframe tbody tr th:only-of-type {\n",
       "        vertical-align: middle;\n",
       "    }\n",
       "\n",
       "    .dataframe tbody tr th {\n",
       "        vertical-align: top;\n",
       "    }\n",
       "\n",
       "    .dataframe thead th {\n",
       "        text-align: right;\n",
       "    }\n",
       "</style>\n",
       "<table border=\"1\" class=\"dataframe\">\n",
       "  <thead>\n",
       "    <tr style=\"text-align: right;\">\n",
       "      <th></th>\n",
       "      <th>Technology</th>\n",
       "      <th>OnghtCptlCostDolPerKw</th>\n",
       "    </tr>\n",
       "  </thead>\n",
       "  <tbody>\n",
       "    <tr>\n",
       "      <th>0</th>\n",
       "      <td>Biopower</td>\n",
       "      <td>140.000000</td>\n",
       "    </tr>\n",
       "    <tr>\n",
       "      <th>1</th>\n",
       "      <td>Coal</td>\n",
       "      <td>380.000000</td>\n",
       "    </tr>\n",
       "    <tr>\n",
       "      <th>2</th>\n",
       "      <td>Combined cycle</td>\n",
       "      <td>500.000000</td>\n",
       "    </tr>\n",
       "    <tr>\n",
       "      <th>3</th>\n",
       "      <td>Combustion turbine</td>\n",
       "      <td>238.390000</td>\n",
       "    </tr>\n",
       "    <tr>\n",
       "      <th>4</th>\n",
       "      <td>Distributed generation</td>\n",
       "      <td>500.000000</td>\n",
       "    </tr>\n",
       "    <tr>\n",
       "      <th>5</th>\n",
       "      <td>Fuel cell</td>\n",
       "      <td>1500.000000</td>\n",
       "    </tr>\n",
       "    <tr>\n",
       "      <th>6</th>\n",
       "      <td>Geothermal</td>\n",
       "      <td>1000.000000</td>\n",
       "    </tr>\n",
       "    <tr>\n",
       "      <th>7</th>\n",
       "      <td>Hydroelectric</td>\n",
       "      <td>500.000000</td>\n",
       "    </tr>\n",
       "    <tr>\n",
       "      <th>8</th>\n",
       "      <td>Land-based wind</td>\n",
       "      <td>842.831572</td>\n",
       "    </tr>\n",
       "    <tr>\n",
       "      <th>9</th>\n",
       "      <td>Nuclear</td>\n",
       "      <td>1600.000000</td>\n",
       "    </tr>\n",
       "    <tr>\n",
       "      <th>10</th>\n",
       "      <td>Ocean</td>\n",
       "      <td>2900.000000</td>\n",
       "    </tr>\n",
       "    <tr>\n",
       "      <th>11</th>\n",
       "      <td>Photovoltaic</td>\n",
       "      <td>800.000000</td>\n",
       "    </tr>\n",
       "    <tr>\n",
       "      <th>12</th>\n",
       "      <td>Small hydro</td>\n",
       "      <td>945.000000</td>\n",
       "    </tr>\n",
       "    <tr>\n",
       "      <th>13</th>\n",
       "      <td>Solar thermal</td>\n",
       "      <td>1797.000000</td>\n",
       "    </tr>\n",
       "    <tr>\n",
       "      <th>14</th>\n",
       "      <td>Wind-offshore</td>\n",
       "      <td>2009.280000</td>\n",
       "    </tr>\n",
       "  </tbody>\n",
       "</table>\n",
       "</div>"
      ],
      "text/plain": [
       "                Technology  OnghtCptlCostDolPerKw\n",
       "0                 Biopower             140.000000\n",
       "1                     Coal             380.000000\n",
       "2           Combined cycle             500.000000\n",
       "3       Combustion turbine             238.390000\n",
       "4   Distributed generation             500.000000\n",
       "5                Fuel cell            1500.000000\n",
       "6               Geothermal            1000.000000\n",
       "7            Hydroelectric             500.000000\n",
       "8          Land-based wind             842.831572\n",
       "9                  Nuclear            1600.000000\n",
       "10                   Ocean            2900.000000\n",
       "11            Photovoltaic             800.000000\n",
       "12             Small hydro             945.000000\n",
       "13           Solar thermal            1797.000000\n",
       "14           Wind-offshore            2009.280000"
      ]
     },
     "execution_count": 17,
     "metadata": {},
     "output_type": "execute_result"
    }
   ],
   "source": [
    "# Find min of OCC\n",
    "OCC.groupby('Technology',as_index=False)['OnghtCptlCostDolPerKw'].min()"
   ]
  },
  {
   "cell_type": "code",
   "execution_count": 88,
   "metadata": {},
   "outputs": [
    {
     "data": {
      "image/png": "[encoded data removed]",
      "text/plain": [
       "<Figure size 720x720 with 1 Axes>"
      ]
     },
     "metadata": {
      "needs_background": "light"
     },
     "output_type": "display_data"
    }
   ],
   "source": [
    "# Scatter Plot\n",
    "#colors = {'Biopower':'green', 'Hydroelectric':'green','Geothermal':'green','Photovoltaic':'green','Solar thermal':'green', 'Land-based wind':'green','Small hydro':'green','Ocean':'green', 'Wind-offshore':'green'}\n",
    "occsct = OCC.plot.scatter(x='Technology',y='OnghtCptlCostDolPerKw', figsize=(10,10))\n",
    "occsct.set_xlabel(\"Technology\")\n",
    "occsct.set_ylabel(\"Overnight capital cost in $/kW\" + \" (\" + \"USD\" + \")\")\n",
    "plt.xticks(rotation=90);"
   ]
  },
  {
   "cell_type": "code",
   "execution_count": 89,
   "metadata": {},
   "outputs": [
    {
     "data": {
      "image/png": "[encoded data removed]",
      "text/plain": [
       "<Figure size 720x720 with 1 Axes>"
      ]
     },
     "metadata": {
      "needs_background": "light"
     },
     "output_type": "display_data"
    }
   ],
   "source": [
    "# Box and Whiskeer plot to see the outliers\n",
    "occsct1 = OCC.boxplot(by = 'Technology' , column = ['OnghtCptlCostDolPerKw'], figsize=(10,10))\n",
    "occsct1.set_xlabel(\"Technology\")\n",
    "occsct1.set_ylabel(\"Overnight capital cost in $/kW\" + \" (\" + \"USD\" + \")\")\n",
    "plt.xticks(rotation=90);"
   ]
  },
  {
   "cell_type": "code",
   "execution_count": 100,
   "metadata": {},
   "outputs": [],
   "source": [
    "#newOCC = OCC.iloc[:,[2,10]]\n",
    "#newOCC"
   ]
  },
  {
   "cell_type": "code",
   "execution_count": 93,
   "metadata": {},
   "outputs": [
    {
     "data": {
      "image/png": "[encoded data removed]",
      "text/plain": [
       "<Figure size 720x720 with 1 Axes>"
      ]
     },
     "metadata": {
      "needs_background": "light"
     },
     "output_type": "display_data"
    }
   ],
   "source": [
    "occbar = occmean.plot(kind = 'bar', x='Technology',y='OnghtCptlCostDolPerKw', figsize=(10,10))\n",
    "occbar.set_xlabel(\"Technology\")\n",
    "occbar.set_ylabel(\"Overnight Capital Cost in $/kW\")\n",
    "plt.xticks(rotation=90);"
   ]
  },
  {
   "cell_type": "code",
   "execution_count": 21,
   "metadata": {},
   "outputs": [
    {
     "data": {
      "text/plain": [
       "['Biopower',\n",
       " 'Geothermal',\n",
       " 'Photovoltaic',\n",
       " 'Solar thermal',\n",
       " 'Combined cycle',\n",
       " 'Combustion turbine',\n",
       " 'Hydroelectric',\n",
       " 'Distributed generation',\n",
       " 'Fuel cell',\n",
       " 'Coal',\n",
       " 'Nuclear',\n",
       " 'Land-based wind',\n",
       " 'Wind-offshore',\n",
       " 'Small hydro',\n",
       " 'Ocean']"
      ]
     },
     "execution_count": 21,
     "metadata": {},
     "output_type": "execute_result"
    }
   ],
   "source": [
    "# Technologies with Variable Operating values\n",
    "VOC = newdata.dropna(subset = ['VariableOMDolPerMwh'])\n",
    "VOC['Technology'].unique().tolist()"
   ]
  },
  {
   "cell_type": "code",
   "execution_count": 22,
   "metadata": {},
   "outputs": [
    {
     "data": {
      "text/plain": [
       "15"
      ]
     },
     "execution_count": 22,
     "metadata": {},
     "output_type": "execute_result"
    }
   ],
   "source": [
    "# Number of technologies with Variable Operating Cost values\n",
    "len(VOC['Technology'].unique().tolist())"
   ]
  },
  {
   "cell_type": "code",
   "execution_count": 23,
   "metadata": {},
   "outputs": [
    {
     "data": {
      "text/html": [
       "<div>\n",
       "<style scoped>\n",
       "    .dataframe tbody tr th:only-of-type {\n",
       "        vertical-align: middle;\n",
       "    }\n",
       "\n",
       "    .dataframe tbody tr th {\n",
       "        vertical-align: top;\n",
       "    }\n",
       "\n",
       "    .dataframe thead th {\n",
       "        text-align: right;\n",
       "    }\n",
       "</style>\n",
       "<table border=\"1\" class=\"dataframe\">\n",
       "  <thead>\n",
       "    <tr style=\"text-align: right;\">\n",
       "      <th></th>\n",
       "      <th>Technology</th>\n",
       "      <th>VariableOMDolPerMwh</th>\n",
       "    </tr>\n",
       "  </thead>\n",
       "  <tbody>\n",
       "    <tr>\n",
       "      <th>0</th>\n",
       "      <td>Biopower</td>\n",
       "      <td>5.530643</td>\n",
       "    </tr>\n",
       "    <tr>\n",
       "      <th>1</th>\n",
       "      <td>Coal</td>\n",
       "      <td>4.384148</td>\n",
       "    </tr>\n",
       "    <tr>\n",
       "      <th>2</th>\n",
       "      <td>Combined cycle</td>\n",
       "      <td>3.273313</td>\n",
       "    </tr>\n",
       "    <tr>\n",
       "      <th>3</th>\n",
       "      <td>Combustion turbine</td>\n",
       "      <td>5.814345</td>\n",
       "    </tr>\n",
       "    <tr>\n",
       "      <th>4</th>\n",
       "      <td>Distributed generation</td>\n",
       "      <td>6.213333</td>\n",
       "    </tr>\n",
       "    <tr>\n",
       "      <th>5</th>\n",
       "      <td>Fuel cell</td>\n",
       "      <td>32.442025</td>\n",
       "    </tr>\n",
       "    <tr>\n",
       "      <th>6</th>\n",
       "      <td>Geothermal</td>\n",
       "      <td>1.851137</td>\n",
       "    </tr>\n",
       "    <tr>\n",
       "      <th>7</th>\n",
       "      <td>Hydroelectric</td>\n",
       "      <td>2.596107</td>\n",
       "    </tr>\n",
       "    <tr>\n",
       "      <th>8</th>\n",
       "      <td>Land-based wind</td>\n",
       "      <td>3.283080</td>\n",
       "    </tr>\n",
       "    <tr>\n",
       "      <th>9</th>\n",
       "      <td>Nuclear</td>\n",
       "      <td>1.342682</td>\n",
       "    </tr>\n",
       "    <tr>\n",
       "      <th>10</th>\n",
       "      <td>Ocean</td>\n",
       "      <td>6.720000</td>\n",
       "    </tr>\n",
       "    <tr>\n",
       "      <th>11</th>\n",
       "      <td>Photovoltaic</td>\n",
       "      <td>0.000000</td>\n",
       "    </tr>\n",
       "    <tr>\n",
       "      <th>12</th>\n",
       "      <td>Small hydro</td>\n",
       "      <td>2.184000</td>\n",
       "    </tr>\n",
       "    <tr>\n",
       "      <th>13</th>\n",
       "      <td>Solar thermal</td>\n",
       "      <td>0.995829</td>\n",
       "    </tr>\n",
       "    <tr>\n",
       "      <th>14</th>\n",
       "      <td>Wind-offshore</td>\n",
       "      <td>11.861754</td>\n",
       "    </tr>\n",
       "  </tbody>\n",
       "</table>\n",
       "</div>"
      ],
      "text/plain": [
       "                Technology  VariableOMDolPerMwh\n",
       "0                 Biopower             5.530643\n",
       "1                     Coal             4.384148\n",
       "2           Combined cycle             3.273313\n",
       "3       Combustion turbine             5.814345\n",
       "4   Distributed generation             6.213333\n",
       "5                Fuel cell            32.442025\n",
       "6               Geothermal             1.851137\n",
       "7            Hydroelectric             2.596107\n",
       "8          Land-based wind             3.283080\n",
       "9                  Nuclear             1.342682\n",
       "10                   Ocean             6.720000\n",
       "11            Photovoltaic             0.000000\n",
       "12             Small hydro             2.184000\n",
       "13           Solar thermal             0.995829\n",
       "14           Wind-offshore            11.861754"
      ]
     },
     "execution_count": 23,
     "metadata": {},
     "output_type": "execute_result"
    }
   ],
   "source": [
    "# Find means of VOC\n",
    "vocmean = VOC.groupby('Technology',as_index=False)['VariableOMDolPerMwh'].mean()\n",
    "vocmean"
   ]
  },
  {
   "cell_type": "code",
   "execution_count": 24,
   "metadata": {},
   "outputs": [
    {
     "data": {
      "text/html": [
       "<div>\n",
       "<style scoped>\n",
       "    .dataframe tbody tr th:only-of-type {\n",
       "        vertical-align: middle;\n",
       "    }\n",
       "\n",
       "    .dataframe tbody tr th {\n",
       "        vertical-align: top;\n",
       "    }\n",
       "\n",
       "    .dataframe thead th {\n",
       "        text-align: right;\n",
       "    }\n",
       "</style>\n",
       "<table border=\"1\" class=\"dataframe\">\n",
       "  <thead>\n",
       "    <tr style=\"text-align: right;\">\n",
       "      <th></th>\n",
       "      <th>Technology</th>\n",
       "      <th>VariableOMDolPerMwh</th>\n",
       "    </tr>\n",
       "  </thead>\n",
       "  <tbody>\n",
       "    <tr>\n",
       "      <th>0</th>\n",
       "      <td>Biopower</td>\n",
       "      <td>34.00</td>\n",
       "    </tr>\n",
       "    <tr>\n",
       "      <th>1</th>\n",
       "      <td>Coal</td>\n",
       "      <td>23.00</td>\n",
       "    </tr>\n",
       "    <tr>\n",
       "      <th>2</th>\n",
       "      <td>Combined cycle</td>\n",
       "      <td>15.00</td>\n",
       "    </tr>\n",
       "    <tr>\n",
       "      <th>3</th>\n",
       "      <td>Combustion turbine</td>\n",
       "      <td>29.90</td>\n",
       "    </tr>\n",
       "    <tr>\n",
       "      <th>4</th>\n",
       "      <td>Distributed generation</td>\n",
       "      <td>51.00</td>\n",
       "    </tr>\n",
       "    <tr>\n",
       "      <th>5</th>\n",
       "      <td>Fuel cell</td>\n",
       "      <td>50.00</td>\n",
       "    </tr>\n",
       "    <tr>\n",
       "      <th>6</th>\n",
       "      <td>Geothermal</td>\n",
       "      <td>40.00</td>\n",
       "    </tr>\n",
       "    <tr>\n",
       "      <th>7</th>\n",
       "      <td>Hydroelectric</td>\n",
       "      <td>15.00</td>\n",
       "    </tr>\n",
       "    <tr>\n",
       "      <th>8</th>\n",
       "      <td>Land-based wind</td>\n",
       "      <td>26.00</td>\n",
       "    </tr>\n",
       "    <tr>\n",
       "      <th>9</th>\n",
       "      <td>Nuclear</td>\n",
       "      <td>30.00</td>\n",
       "    </tr>\n",
       "    <tr>\n",
       "      <th>10</th>\n",
       "      <td>Ocean</td>\n",
       "      <td>20.00</td>\n",
       "    </tr>\n",
       "    <tr>\n",
       "      <th>11</th>\n",
       "      <td>Photovoltaic</td>\n",
       "      <td>0.00</td>\n",
       "    </tr>\n",
       "    <tr>\n",
       "      <th>12</th>\n",
       "      <td>Small hydro</td>\n",
       "      <td>5.54</td>\n",
       "    </tr>\n",
       "    <tr>\n",
       "      <th>13</th>\n",
       "      <td>Solar thermal</td>\n",
       "      <td>35.00</td>\n",
       "    </tr>\n",
       "    <tr>\n",
       "      <th>14</th>\n",
       "      <td>Wind-offshore</td>\n",
       "      <td>63.00</td>\n",
       "    </tr>\n",
       "  </tbody>\n",
       "</table>\n",
       "</div>"
      ],
      "text/plain": [
       "                Technology  VariableOMDolPerMwh\n",
       "0                 Biopower                34.00\n",
       "1                     Coal                23.00\n",
       "2           Combined cycle                15.00\n",
       "3       Combustion turbine                29.90\n",
       "4   Distributed generation                51.00\n",
       "5                Fuel cell                50.00\n",
       "6               Geothermal                40.00\n",
       "7            Hydroelectric                15.00\n",
       "8          Land-based wind                26.00\n",
       "9                  Nuclear                30.00\n",
       "10                   Ocean                20.00\n",
       "11            Photovoltaic                 0.00\n",
       "12             Small hydro                 5.54\n",
       "13           Solar thermal                35.00\n",
       "14           Wind-offshore                63.00"
      ]
     },
     "execution_count": 24,
     "metadata": {},
     "output_type": "execute_result"
    }
   ],
   "source": [
    "# Find max of VOC\n",
    "VOC.groupby('Technology',as_index=False)['VariableOMDolPerMwh'].max()"
   ]
  },
  {
   "cell_type": "code",
   "execution_count": 25,
   "metadata": {},
   "outputs": [
    {
     "data": {
      "text/html": [
       "<div>\n",
       "<style scoped>\n",
       "    .dataframe tbody tr th:only-of-type {\n",
       "        vertical-align: middle;\n",
       "    }\n",
       "\n",
       "    .dataframe tbody tr th {\n",
       "        vertical-align: top;\n",
       "    }\n",
       "\n",
       "    .dataframe thead th {\n",
       "        text-align: right;\n",
       "    }\n",
       "</style>\n",
       "<table border=\"1\" class=\"dataframe\">\n",
       "  <thead>\n",
       "    <tr style=\"text-align: right;\">\n",
       "      <th></th>\n",
       "      <th>Technology</th>\n",
       "      <th>VariableOMDolPerMwh</th>\n",
       "    </tr>\n",
       "  </thead>\n",
       "  <tbody>\n",
       "    <tr>\n",
       "      <th>0</th>\n",
       "      <td>Biopower</td>\n",
       "      <td>0.0</td>\n",
       "    </tr>\n",
       "    <tr>\n",
       "      <th>1</th>\n",
       "      <td>Coal</td>\n",
       "      <td>0.0</td>\n",
       "    </tr>\n",
       "    <tr>\n",
       "      <th>2</th>\n",
       "      <td>Combined cycle</td>\n",
       "      <td>0.0</td>\n",
       "    </tr>\n",
       "    <tr>\n",
       "      <th>3</th>\n",
       "      <td>Combustion turbine</td>\n",
       "      <td>0.0</td>\n",
       "    </tr>\n",
       "    <tr>\n",
       "      <th>4</th>\n",
       "      <td>Distributed generation</td>\n",
       "      <td>0.0</td>\n",
       "    </tr>\n",
       "    <tr>\n",
       "      <th>5</th>\n",
       "      <td>Fuel cell</td>\n",
       "      <td>0.0</td>\n",
       "    </tr>\n",
       "    <tr>\n",
       "      <th>6</th>\n",
       "      <td>Geothermal</td>\n",
       "      <td>0.0</td>\n",
       "    </tr>\n",
       "    <tr>\n",
       "      <th>7</th>\n",
       "      <td>Hydroelectric</td>\n",
       "      <td>0.0</td>\n",
       "    </tr>\n",
       "    <tr>\n",
       "      <th>8</th>\n",
       "      <td>Land-based wind</td>\n",
       "      <td>0.0</td>\n",
       "    </tr>\n",
       "    <tr>\n",
       "      <th>9</th>\n",
       "      <td>Nuclear</td>\n",
       "      <td>0.0</td>\n",
       "    </tr>\n",
       "    <tr>\n",
       "      <th>10</th>\n",
       "      <td>Ocean</td>\n",
       "      <td>0.0</td>\n",
       "    </tr>\n",
       "    <tr>\n",
       "      <th>11</th>\n",
       "      <td>Photovoltaic</td>\n",
       "      <td>0.0</td>\n",
       "    </tr>\n",
       "    <tr>\n",
       "      <th>12</th>\n",
       "      <td>Small hydro</td>\n",
       "      <td>0.0</td>\n",
       "    </tr>\n",
       "    <tr>\n",
       "      <th>13</th>\n",
       "      <td>Solar thermal</td>\n",
       "      <td>0.0</td>\n",
       "    </tr>\n",
       "    <tr>\n",
       "      <th>14</th>\n",
       "      <td>Wind-offshore</td>\n",
       "      <td>0.0</td>\n",
       "    </tr>\n",
       "  </tbody>\n",
       "</table>\n",
       "</div>"
      ],
      "text/plain": [
       "                Technology  VariableOMDolPerMwh\n",
       "0                 Biopower                  0.0\n",
       "1                     Coal                  0.0\n",
       "2           Combined cycle                  0.0\n",
       "3       Combustion turbine                  0.0\n",
       "4   Distributed generation                  0.0\n",
       "5                Fuel cell                  0.0\n",
       "6               Geothermal                  0.0\n",
       "7            Hydroelectric                  0.0\n",
       "8          Land-based wind                  0.0\n",
       "9                  Nuclear                  0.0\n",
       "10                   Ocean                  0.0\n",
       "11            Photovoltaic                  0.0\n",
       "12             Small hydro                  0.0\n",
       "13           Solar thermal                  0.0\n",
       "14           Wind-offshore                  0.0"
      ]
     },
     "execution_count": 25,
     "metadata": {},
     "output_type": "execute_result"
    }
   ],
   "source": [
    "# Find min of VOC\n",
    "VOC.groupby('Technology',as_index=False)['VariableOMDolPerMwh'].min()"
   ]
  },
  {
   "cell_type": "code",
   "execution_count": 101,
   "metadata": {},
   "outputs": [
    {
     "data": {
      "image/png": "[encoded data removed]",
      "text/plain": [
       "<Figure size 720x720 with 1 Axes>"
      ]
     },
     "metadata": {
      "needs_background": "light"
     },
     "output_type": "display_data"
    }
   ],
   "source": [
    "# Scatter Plot\n",
    "#colors = {'Biopower':'green', 'Hydroelectric':'green','Geothermal':'green','Photovoltaic':'green','Solar thermal':'green', 'Land-based wind':'green','Small hydro':'green','Ocean':'green', 'Wind-offshore':'green'}\n",
    "vocsct = VOC.plot.scatter(x='Technology',y='VariableOMDolPerMwh', figsize=(10,10))\n",
    "vocsct.set_xlabel(\"Technology\")\n",
    "vocsct.set_ylabel(\"Variable Operating Cost in $/MWh\" + \" (\" + \"USD\" + \")\")\n",
    "plt.xticks(rotation=90);"
   ]
  },
  {
   "cell_type": "code",
   "execution_count": 102,
   "metadata": {},
   "outputs": [
    {
     "data": {
      "image/png": "[encoded data removed]",
      "text/plain": [
       "<Figure size 720x720 with 1 Axes>"
      ]
     },
     "metadata": {
      "needs_background": "light"
     },
     "output_type": "display_data"
    }
   ],
   "source": [
    "# Box and Whiskeer plot to see the outliers\n",
    "vocsct1 = VOC.boxplot(by = 'Technology' , column = ['VariableOMDolPerMwh'], figsize=(10,10))\n",
    "vocsct1.set_xlabel(\"Technology\")\n",
    "vocsct1.set_ylabel(\"Variable Operating Cost in $/MWh\" + \" (\" + \"USD\" + \")\")\n",
    "plt.xticks(rotation=90);"
   ]
  },
  {
   "cell_type": "code",
   "execution_count": 103,
   "metadata": {},
   "outputs": [
    {
     "data": {
      "image/png": "[encoded data removed]",
      "text/plain": [
       "<Figure size 720x720 with 1 Axes>"
      ]
     },
     "metadata": {
      "needs_background": "light"
     },
     "output_type": "display_data"
    }
   ],
   "source": [
    "vocbar = vocmean.plot(kind = 'bar', x='Technology',y='VariableOMDolPerMwh', figsize=(10,10))\n",
    "vocbar.set_xlabel(\"Technology\")\n",
    "vocbar.set_ylabel(\"Variable Operating Cost\")\n",
    "plt.xticks(rotation=90);"
   ]
  },
  {
   "cell_type": "code",
   "execution_count": 29,
   "metadata": {},
   "outputs": [
    {
     "data": {
      "text/plain": [
       "['Biopower',\n",
       " 'Geothermal',\n",
       " 'Photovoltaic',\n",
       " 'Solar thermal',\n",
       " 'Combined cycle',\n",
       " 'Combustion turbine',\n",
       " 'Hydroelectric',\n",
       " 'Distributed generation',\n",
       " 'Fuel cell',\n",
       " 'Coal',\n",
       " 'Nuclear',\n",
       " 'Land-based wind',\n",
       " 'Wind-offshore',\n",
       " 'Small hydro',\n",
       " 'Ocean']"
      ]
     },
     "execution_count": 29,
     "metadata": {},
     "output_type": "execute_result"
    }
   ],
   "source": [
    "# Technologies with Fixed Operating values\n",
    "FOC = newdata.dropna(subset = ['FixedOMDolPerKw'])\n",
    "FOC['Technology'].unique().tolist()"
   ]
  },
  {
   "cell_type": "code",
   "execution_count": 30,
   "metadata": {},
   "outputs": [
    {
     "data": {
      "text/plain": [
       "15"
      ]
     },
     "execution_count": 30,
     "metadata": {},
     "output_type": "execute_result"
    }
   ],
   "source": [
    "# Number of technologies with Fixed Operating Cost values\n",
    "len(FOC['Technology'].unique().tolist())"
   ]
  },
  {
   "cell_type": "code",
   "execution_count": 31,
   "metadata": {},
   "outputs": [
    {
     "data": {
      "text/html": [
       "<div>\n",
       "<style scoped>\n",
       "    .dataframe tbody tr th:only-of-type {\n",
       "        vertical-align: middle;\n",
       "    }\n",
       "\n",
       "    .dataframe tbody tr th {\n",
       "        vertical-align: top;\n",
       "    }\n",
       "\n",
       "    .dataframe thead th {\n",
       "        text-align: right;\n",
       "    }\n",
       "</style>\n",
       "<table border=\"1\" class=\"dataframe\">\n",
       "  <thead>\n",
       "    <tr style=\"text-align: right;\">\n",
       "      <th></th>\n",
       "      <th>Technology</th>\n",
       "      <th>FixedOMDolPerKw</th>\n",
       "    </tr>\n",
       "  </thead>\n",
       "  <tbody>\n",
       "    <tr>\n",
       "      <th>0</th>\n",
       "      <td>Biopower</td>\n",
       "      <td>116.932333</td>\n",
       "    </tr>\n",
       "    <tr>\n",
       "      <th>1</th>\n",
       "      <td>Coal</td>\n",
       "      <td>38.930883</td>\n",
       "    </tr>\n",
       "    <tr>\n",
       "      <th>2</th>\n",
       "      <td>Combined cycle</td>\n",
       "      <td>12.337018</td>\n",
       "    </tr>\n",
       "    <tr>\n",
       "      <th>3</th>\n",
       "      <td>Combustion turbine</td>\n",
       "      <td>10.916475</td>\n",
       "    </tr>\n",
       "    <tr>\n",
       "      <th>4</th>\n",
       "      <td>Distributed generation</td>\n",
       "      <td>12.789402</td>\n",
       "    </tr>\n",
       "    <tr>\n",
       "      <th>5</th>\n",
       "      <td>Fuel cell</td>\n",
       "      <td>116.098312</td>\n",
       "    </tr>\n",
       "    <tr>\n",
       "      <th>6</th>\n",
       "      <td>Geothermal</td>\n",
       "      <td>155.007902</td>\n",
       "    </tr>\n",
       "    <tr>\n",
       "      <th>7</th>\n",
       "      <td>Hydroelectric</td>\n",
       "      <td>15.078134</td>\n",
       "    </tr>\n",
       "    <tr>\n",
       "      <th>8</th>\n",
       "      <td>Land-based wind</td>\n",
       "      <td>19.734818</td>\n",
       "    </tr>\n",
       "    <tr>\n",
       "      <th>9</th>\n",
       "      <td>Nuclear</td>\n",
       "      <td>75.935464</td>\n",
       "    </tr>\n",
       "    <tr>\n",
       "      <th>10</th>\n",
       "      <td>Ocean</td>\n",
       "      <td>123.000000</td>\n",
       "    </tr>\n",
       "    <tr>\n",
       "      <th>11</th>\n",
       "      <td>Photovoltaic</td>\n",
       "      <td>19.098157</td>\n",
       "    </tr>\n",
       "    <tr>\n",
       "      <th>12</th>\n",
       "      <td>Small hydro</td>\n",
       "      <td>53.256000</td>\n",
       "    </tr>\n",
       "    <tr>\n",
       "      <th>13</th>\n",
       "      <td>Solar thermal</td>\n",
       "      <td>48.302727</td>\n",
       "    </tr>\n",
       "    <tr>\n",
       "      <th>14</th>\n",
       "      <td>Wind-offshore</td>\n",
       "      <td>43.472667</td>\n",
       "    </tr>\n",
       "  </tbody>\n",
       "</table>\n",
       "</div>"
      ],
      "text/plain": [
       "                Technology  FixedOMDolPerKw\n",
       "0                 Biopower       116.932333\n",
       "1                     Coal        38.930883\n",
       "2           Combined cycle        12.337018\n",
       "3       Combustion turbine        10.916475\n",
       "4   Distributed generation        12.789402\n",
       "5                Fuel cell       116.098312\n",
       "6               Geothermal       155.007902\n",
       "7            Hydroelectric        15.078134\n",
       "8          Land-based wind        19.734818\n",
       "9                  Nuclear        75.935464\n",
       "10                   Ocean       123.000000\n",
       "11            Photovoltaic        19.098157\n",
       "12             Small hydro        53.256000\n",
       "13           Solar thermal        48.302727\n",
       "14           Wind-offshore        43.472667"
      ]
     },
     "execution_count": 31,
     "metadata": {},
     "output_type": "execute_result"
    }
   ],
   "source": [
    "# Find means of FOC\n",
    "FOC.groupby('Technology',as_index=False)['FixedOMDolPerKw'].mean()"
   ]
  },
  {
   "cell_type": "code",
   "execution_count": 32,
   "metadata": {},
   "outputs": [
    {
     "data": {
      "text/html": [
       "<div>\n",
       "<style scoped>\n",
       "    .dataframe tbody tr th:only-of-type {\n",
       "        vertical-align: middle;\n",
       "    }\n",
       "\n",
       "    .dataframe tbody tr th {\n",
       "        vertical-align: top;\n",
       "    }\n",
       "\n",
       "    .dataframe thead th {\n",
       "        text-align: right;\n",
       "    }\n",
       "</style>\n",
       "<table border=\"1\" class=\"dataframe\">\n",
       "  <thead>\n",
       "    <tr style=\"text-align: right;\">\n",
       "      <th></th>\n",
       "      <th>Technology</th>\n",
       "      <th>FixedOMDolPerKw</th>\n",
       "    </tr>\n",
       "  </thead>\n",
       "  <tbody>\n",
       "    <tr>\n",
       "      <th>0</th>\n",
       "      <td>Biopower</td>\n",
       "      <td>500.00</td>\n",
       "    </tr>\n",
       "    <tr>\n",
       "      <th>1</th>\n",
       "      <td>Coal</td>\n",
       "      <td>130.03</td>\n",
       "    </tr>\n",
       "    <tr>\n",
       "      <th>2</th>\n",
       "      <td>Combined cycle</td>\n",
       "      <td>82.42</td>\n",
       "    </tr>\n",
       "    <tr>\n",
       "      <th>3</th>\n",
       "      <td>Combustion turbine</td>\n",
       "      <td>75.16</td>\n",
       "    </tr>\n",
       "    <tr>\n",
       "      <th>4</th>\n",
       "      <td>Distributed generation</td>\n",
       "      <td>80.00</td>\n",
       "    </tr>\n",
       "    <tr>\n",
       "      <th>5</th>\n",
       "      <td>Fuel cell</td>\n",
       "      <td>850.00</td>\n",
       "    </tr>\n",
       "    <tr>\n",
       "      <th>6</th>\n",
       "      <td>Geothermal</td>\n",
       "      <td>541.00</td>\n",
       "    </tr>\n",
       "    <tr>\n",
       "      <th>7</th>\n",
       "      <td>Hydroelectric</td>\n",
       "      <td>250.00</td>\n",
       "    </tr>\n",
       "    <tr>\n",
       "      <th>8</th>\n",
       "      <td>Land-based wind</td>\n",
       "      <td>66.10</td>\n",
       "    </tr>\n",
       "    <tr>\n",
       "      <th>9</th>\n",
       "      <td>Nuclear</td>\n",
       "      <td>127.00</td>\n",
       "    </tr>\n",
       "    <tr>\n",
       "      <th>10</th>\n",
       "      <td>Ocean</td>\n",
       "      <td>360.00</td>\n",
       "    </tr>\n",
       "    <tr>\n",
       "      <th>11</th>\n",
       "      <td>Photovoltaic</td>\n",
       "      <td>110.00</td>\n",
       "    </tr>\n",
       "    <tr>\n",
       "      <th>12</th>\n",
       "      <td>Small hydro</td>\n",
       "      <td>130.00</td>\n",
       "    </tr>\n",
       "    <tr>\n",
       "      <th>13</th>\n",
       "      <td>Solar thermal</td>\n",
       "      <td>148.02</td>\n",
       "    </tr>\n",
       "    <tr>\n",
       "      <th>14</th>\n",
       "      <td>Wind-offshore</td>\n",
       "      <td>180.00</td>\n",
       "    </tr>\n",
       "  </tbody>\n",
       "</table>\n",
       "</div>"
      ],
      "text/plain": [
       "                Technology  FixedOMDolPerKw\n",
       "0                 Biopower           500.00\n",
       "1                     Coal           130.03\n",
       "2           Combined cycle            82.42\n",
       "3       Combustion turbine            75.16\n",
       "4   Distributed generation            80.00\n",
       "5                Fuel cell           850.00\n",
       "6               Geothermal           541.00\n",
       "7            Hydroelectric           250.00\n",
       "8          Land-based wind            66.10\n",
       "9                  Nuclear           127.00\n",
       "10                   Ocean           360.00\n",
       "11            Photovoltaic           110.00\n",
       "12             Small hydro           130.00\n",
       "13           Solar thermal           148.02\n",
       "14           Wind-offshore           180.00"
      ]
     },
     "execution_count": 32,
     "metadata": {},
     "output_type": "execute_result"
    }
   ],
   "source": [
    "# Find means of FOC\n",
    "focmean = FOC.groupby('Technology',as_index=False)['FixedOMDolPerKw'].max()\n",
    "focmean"
   ]
  },
  {
   "cell_type": "code",
   "execution_count": 33,
   "metadata": {},
   "outputs": [
    {
     "data": {
      "text/html": [
       "<div>\n",
       "<style scoped>\n",
       "    .dataframe tbody tr th:only-of-type {\n",
       "        vertical-align: middle;\n",
       "    }\n",
       "\n",
       "    .dataframe tbody tr th {\n",
       "        vertical-align: top;\n",
       "    }\n",
       "\n",
       "    .dataframe thead th {\n",
       "        text-align: right;\n",
       "    }\n",
       "</style>\n",
       "<table border=\"1\" class=\"dataframe\">\n",
       "  <thead>\n",
       "    <tr style=\"text-align: right;\">\n",
       "      <th></th>\n",
       "      <th>Technology</th>\n",
       "      <th>FixedOMDolPerKw</th>\n",
       "    </tr>\n",
       "  </thead>\n",
       "  <tbody>\n",
       "    <tr>\n",
       "      <th>0</th>\n",
       "      <td>Biopower</td>\n",
       "      <td>0.00</td>\n",
       "    </tr>\n",
       "    <tr>\n",
       "      <th>1</th>\n",
       "      <td>Coal</td>\n",
       "      <td>0.00</td>\n",
       "    </tr>\n",
       "    <tr>\n",
       "      <th>2</th>\n",
       "      <td>Combined cycle</td>\n",
       "      <td>0.00</td>\n",
       "    </tr>\n",
       "    <tr>\n",
       "      <th>3</th>\n",
       "      <td>Combustion turbine</td>\n",
       "      <td>5.00</td>\n",
       "    </tr>\n",
       "    <tr>\n",
       "      <th>4</th>\n",
       "      <td>Distributed generation</td>\n",
       "      <td>0.00</td>\n",
       "    </tr>\n",
       "    <tr>\n",
       "      <th>5</th>\n",
       "      <td>Fuel cell</td>\n",
       "      <td>0.00</td>\n",
       "    </tr>\n",
       "    <tr>\n",
       "      <th>6</th>\n",
       "      <td>Geothermal</td>\n",
       "      <td>0.00</td>\n",
       "    </tr>\n",
       "    <tr>\n",
       "      <th>7</th>\n",
       "      <td>Hydroelectric</td>\n",
       "      <td>0.00</td>\n",
       "    </tr>\n",
       "    <tr>\n",
       "      <th>8</th>\n",
       "      <td>Land-based wind</td>\n",
       "      <td>0.00</td>\n",
       "    </tr>\n",
       "    <tr>\n",
       "      <th>9</th>\n",
       "      <td>Nuclear</td>\n",
       "      <td>0.00</td>\n",
       "    </tr>\n",
       "    <tr>\n",
       "      <th>10</th>\n",
       "      <td>Ocean</td>\n",
       "      <td>0.00</td>\n",
       "    </tr>\n",
       "    <tr>\n",
       "      <th>11</th>\n",
       "      <td>Photovoltaic</td>\n",
       "      <td>0.00</td>\n",
       "    </tr>\n",
       "    <tr>\n",
       "      <th>12</th>\n",
       "      <td>Small hydro</td>\n",
       "      <td>9.88</td>\n",
       "    </tr>\n",
       "    <tr>\n",
       "      <th>13</th>\n",
       "      <td>Solar thermal</td>\n",
       "      <td>0.00</td>\n",
       "    </tr>\n",
       "    <tr>\n",
       "      <th>14</th>\n",
       "      <td>Wind-offshore</td>\n",
       "      <td>0.00</td>\n",
       "    </tr>\n",
       "  </tbody>\n",
       "</table>\n",
       "</div>"
      ],
      "text/plain": [
       "                Technology  FixedOMDolPerKw\n",
       "0                 Biopower             0.00\n",
       "1                     Coal             0.00\n",
       "2           Combined cycle             0.00\n",
       "3       Combustion turbine             5.00\n",
       "4   Distributed generation             0.00\n",
       "5                Fuel cell             0.00\n",
       "6               Geothermal             0.00\n",
       "7            Hydroelectric             0.00\n",
       "8          Land-based wind             0.00\n",
       "9                  Nuclear             0.00\n",
       "10                   Ocean             0.00\n",
       "11            Photovoltaic             0.00\n",
       "12             Small hydro             9.88\n",
       "13           Solar thermal             0.00\n",
       "14           Wind-offshore             0.00"
      ]
     },
     "execution_count": 33,
     "metadata": {},
     "output_type": "execute_result"
    }
   ],
   "source": [
    "# Find means of FOC\n",
    "FOC.groupby('Technology',as_index=False)['FixedOMDolPerKw'].min()"
   ]
  },
  {
   "cell_type": "code",
   "execution_count": 34,
   "metadata": {},
   "outputs": [
    {
     "data": {
      "image/png": "[encoded data removed]",
      "text/plain": [
       "<Figure size 1440x1440 with 1 Axes>"
      ]
     },
     "metadata": {
      "needs_background": "light"
     },
     "output_type": "display_data"
    }
   ],
   "source": [
    "# Scatter Plot\n",
    "#colors = {'Biopower':'green', 'Hydroelectric':'green','Geothermal':'green','Photovoltaic':'green','Solar thermal':'green', 'Land-based wind':'green','Small hydro':'green','Ocean':'green', 'Wind-offshore':'green'}\n",
    "focsct = FOC.plot.scatter(x='Technology',y='FixedOMDolPerKw', figsize=(20,20))\n",
    "focsct.set_xlabel(\"Technology\")\n",
    "focsct.set_ylabel(\"Fixed Operating Cost in $/kW\" + \" (\" + \"USD\" + \")\")\n",
    "plt.xticks(rotation=90);"
   ]
  },
  {
   "cell_type": "code",
   "execution_count": 35,
   "metadata": {},
   "outputs": [
    {
     "data": {
      "image/png": "[encoded data removed]",
      "text/plain": [
       "<Figure size 1440x1440 with 1 Axes>"
      ]
     },
     "metadata": {
      "needs_background": "light"
     },
     "output_type": "display_data"
    }
   ],
   "source": [
    "# Box and Whiskeer plot to see the outliers\n",
    "focsct1 = OCC.boxplot(by = 'Technology' , column = ['FixedOMDolPerKw'], figsize=(20,20))\n",
    "focsct1.set_xlabel(\"Technology\")\n",
    "focsct1.set_ylabel(\"Fixed Operating Cost in $/kW\" + \" (\" + \"USD\" + \")\")\n",
    "plt.xticks(rotation=90);"
   ]
  },
  {
   "cell_type": "code",
   "execution_count": 104,
   "metadata": {},
   "outputs": [
    {
     "data": {
      "image/png": "[encoded data removed]",
      "text/plain": [
       "<Figure size 720x720 with 1 Axes>"
      ]
     },
     "metadata": {
      "needs_background": "light"
     },
     "output_type": "display_data"
    }
   ],
   "source": [
    "focbar = focmean.plot(kind = 'bar', x='Technology',y='FixedOMDolPerKw', figsize=(10,10))\n",
    "focbar.set_xlabel(\"Technology\")\n",
    "focbar.set_ylabel(\"Fixed Operating Cost\")\n",
    "plt.xticks(rotation=90);"
   ]
  },
  {
   "cell_type": "code",
   "execution_count": 37,
   "metadata": {},
   "outputs": [
    {
     "data": {
      "text/plain": [
       "['Biopower',\n",
       " 'Geothermal',\n",
       " 'Photovoltaic',\n",
       " 'Solar thermal',\n",
       " 'Combined cycle',\n",
       " 'Combustion turbine',\n",
       " 'Hydroelectric',\n",
       " 'Distributed generation',\n",
       " 'Fuel cell',\n",
       " 'Coal',\n",
       " 'Nuclear',\n",
       " 'Land-based wind',\n",
       " 'Wind-offshore',\n",
       " 'Ocean',\n",
       " 'Small hydro']"
      ]
     },
     "execution_count": 37,
     "metadata": {},
     "output_type": "execute_result"
    }
   ],
   "source": [
    "# Technologies LCOE\n",
    "LCOE = newdata.dropna(subset = ['lcoe'])\n",
    "LCOE['Technology'].unique().tolist()"
   ]
  },
  {
   "cell_type": "code",
   "execution_count": 38,
   "metadata": {},
   "outputs": [
    {
     "data": {
      "text/plain": [
       "15"
      ]
     },
     "execution_count": 38,
     "metadata": {},
     "output_type": "execute_result"
    }
   ],
   "source": [
    "# Number of technologies with CF\n",
    "len(LCOE['Technology'].unique().tolist())"
   ]
  },
  {
   "cell_type": "code",
   "execution_count": 39,
   "metadata": {},
   "outputs": [
    {
     "data": {
      "text/html": [
       "<div>\n",
       "<style scoped>\n",
       "    .dataframe tbody tr th:only-of-type {\n",
       "        vertical-align: middle;\n",
       "    }\n",
       "\n",
       "    .dataframe tbody tr th {\n",
       "        vertical-align: top;\n",
       "    }\n",
       "\n",
       "    .dataframe thead th {\n",
       "        text-align: right;\n",
       "    }\n",
       "</style>\n",
       "<table border=\"1\" class=\"dataframe\">\n",
       "  <thead>\n",
       "    <tr style=\"text-align: right;\">\n",
       "      <th></th>\n",
       "      <th>Technology</th>\n",
       "      <th>lcoe</th>\n",
       "    </tr>\n",
       "  </thead>\n",
       "  <tbody>\n",
       "    <tr>\n",
       "      <th>0</th>\n",
       "      <td>Biopower</td>\n",
       "      <td>0.102895</td>\n",
       "    </tr>\n",
       "    <tr>\n",
       "      <th>1</th>\n",
       "      <td>Coal</td>\n",
       "      <td>0.063396</td>\n",
       "    </tr>\n",
       "    <tr>\n",
       "      <th>2</th>\n",
       "      <td>Combined cycle</td>\n",
       "      <td>0.040730</td>\n",
       "    </tr>\n",
       "    <tr>\n",
       "      <th>3</th>\n",
       "      <td>Combustion turbine</td>\n",
       "      <td>0.079600</td>\n",
       "    </tr>\n",
       "    <tr>\n",
       "      <th>4</th>\n",
       "      <td>Distributed generation</td>\n",
       "      <td>0.039411</td>\n",
       "    </tr>\n",
       "    <tr>\n",
       "      <th>5</th>\n",
       "      <td>Fuel cell</td>\n",
       "      <td>0.111021</td>\n",
       "    </tr>\n",
       "    <tr>\n",
       "      <th>6</th>\n",
       "      <td>Geothermal</td>\n",
       "      <td>0.070011</td>\n",
       "    </tr>\n",
       "    <tr>\n",
       "      <th>7</th>\n",
       "      <td>Hydroelectric</td>\n",
       "      <td>0.058231</td>\n",
       "    </tr>\n",
       "    <tr>\n",
       "      <th>8</th>\n",
       "      <td>Land-based wind</td>\n",
       "      <td>0.051427</td>\n",
       "    </tr>\n",
       "    <tr>\n",
       "      <th>9</th>\n",
       "      <td>Nuclear</td>\n",
       "      <td>0.063646</td>\n",
       "    </tr>\n",
       "    <tr>\n",
       "      <th>10</th>\n",
       "      <td>Ocean</td>\n",
       "      <td>0.047388</td>\n",
       "    </tr>\n",
       "    <tr>\n",
       "      <th>11</th>\n",
       "      <td>Photovoltaic</td>\n",
       "      <td>0.223304</td>\n",
       "    </tr>\n",
       "    <tr>\n",
       "      <th>12</th>\n",
       "      <td>Small hydro</td>\n",
       "      <td>0.059993</td>\n",
       "    </tr>\n",
       "    <tr>\n",
       "      <th>13</th>\n",
       "      <td>Solar thermal</td>\n",
       "      <td>0.141683</td>\n",
       "    </tr>\n",
       "    <tr>\n",
       "      <th>14</th>\n",
       "      <td>Wind-offshore</td>\n",
       "      <td>0.094168</td>\n",
       "    </tr>\n",
       "  </tbody>\n",
       "</table>\n",
       "</div>"
      ],
      "text/plain": [
       "                Technology      lcoe\n",
       "0                 Biopower  0.102895\n",
       "1                     Coal  0.063396\n",
       "2           Combined cycle  0.040730\n",
       "3       Combustion turbine  0.079600\n",
       "4   Distributed generation  0.039411\n",
       "5                Fuel cell  0.111021\n",
       "6               Geothermal  0.070011\n",
       "7            Hydroelectric  0.058231\n",
       "8          Land-based wind  0.051427\n",
       "9                  Nuclear  0.063646\n",
       "10                   Ocean  0.047388\n",
       "11            Photovoltaic  0.223304\n",
       "12             Small hydro  0.059993\n",
       "13           Solar thermal  0.141683\n",
       "14           Wind-offshore  0.094168"
      ]
     },
     "execution_count": 39,
     "metadata": {},
     "output_type": "execute_result"
    }
   ],
   "source": [
    "# Find means of lcoe\n",
    "lcoemean = LCOE.groupby('Technology',as_index=False)['lcoe'].mean()\n",
    "lcoemean"
   ]
  },
  {
   "cell_type": "code",
   "execution_count": 81,
   "metadata": {},
   "outputs": [
    {
     "data": {
      "image/png": "[encoded data removed]",
      "text/plain": [
       "<Figure size 720x720 with 1 Axes>"
      ]
     },
     "metadata": {
      "needs_background": "light"
     },
     "output_type": "display_data"
    }
   ],
   "source": [
    "# Scatter Plot\n",
    "#colors = {'Biopower':'green', 'Hydroelectric':'green','Geothermal':'green','Photovoltaic':'green','Solar thermal':'green', 'Land-based wind':'green','Small hydro':'green','Ocean':'green', 'Wind-offshore':'green'}\n",
    "lcoesct = LCOE.plot.scatter(x='Technology',y='lcoe', figsize=(10,10))\n",
    "lcoesct.set_xlabel(\"Technology\")\n",
    "lcoesct.set_ylabel(\"Levelizd cost of Energy in $/kWh\" + \" (\" + \"USD\" + \")\")\n",
    "plt.xticks(rotation=90);"
   ]
  },
  {
   "cell_type": "code",
   "execution_count": 82,
   "metadata": {},
   "outputs": [
    {
     "data": {
      "image/png": "[encoded data removed]",
      "text/plain": [
       "<Figure size 720x720 with 1 Axes>"
      ]
     },
     "metadata": {
      "needs_background": "light"
     },
     "output_type": "display_data"
    }
   ],
   "source": [
    "# Box and Whiskeer plot to see the outliers\n",
    "lcoesct1 = LCOE.boxplot(by = 'Technology' , column = ['lcoe'], figsize=(10,10))\n",
    "lcoesct1.set_xlabel(\"Technology\")\n",
    "lcoesct1.set_ylabel(\"Levelizd cost of Energy in $/kWh\" + \" (\" + \"USD\" + \")\")\n",
    "plt.xticks(rotation=90);"
   ]
  },
  {
   "cell_type": "code",
   "execution_count": 42,
   "metadata": {},
   "outputs": [
    {
     "data": {
      "text/plain": [
       "['Combined cycle',\n",
       " 'Combustion turbine',\n",
       " 'Biopower',\n",
       " 'Land-based wind',\n",
       " 'Wind-offshore',\n",
       " 'Geothermal',\n",
       " 'Photovoltaic',\n",
       " 'Solar thermal',\n",
       " 'Coal',\n",
       " 'Nuclear',\n",
       " 'Hydroelectric',\n",
       " 'Fuel cell',\n",
       " 'Small hydro',\n",
       " 'Ocean',\n",
       " 'Distributed generation']"
      ]
     },
     "execution_count": 42,
     "metadata": {},
     "output_type": "execute_result"
    }
   ],
   "source": [
    "# Technologies Capacity Factor\n",
    "CF = newdata.dropna(subset = ['AvgCapacityFactor'])\n",
    "CF['Technology'].unique().tolist()"
   ]
  },
  {
   "cell_type": "code",
   "execution_count": 43,
   "metadata": {},
   "outputs": [
    {
     "data": {
      "text/plain": [
       "15"
      ]
     },
     "execution_count": 43,
     "metadata": {},
     "output_type": "execute_result"
    }
   ],
   "source": [
    "# Number of technologies with CF\n",
    "len(CF['Technology'].unique().tolist())"
   ]
  },
  {
   "cell_type": "code",
   "execution_count": 44,
   "metadata": {},
   "outputs": [
    {
     "data": {
      "text/html": [
       "<div>\n",
       "<style scoped>\n",
       "    .dataframe tbody tr th:only-of-type {\n",
       "        vertical-align: middle;\n",
       "    }\n",
       "\n",
       "    .dataframe tbody tr th {\n",
       "        vertical-align: top;\n",
       "    }\n",
       "\n",
       "    .dataframe thead th {\n",
       "        text-align: right;\n",
       "    }\n",
       "</style>\n",
       "<table border=\"1\" class=\"dataframe\">\n",
       "  <thead>\n",
       "    <tr style=\"text-align: right;\">\n",
       "      <th></th>\n",
       "      <th>Technology</th>\n",
       "      <th>AvgCapacityFactor</th>\n",
       "    </tr>\n",
       "  </thead>\n",
       "  <tbody>\n",
       "    <tr>\n",
       "      <th>0</th>\n",
       "      <td>Biopower</td>\n",
       "      <td>0.731789</td>\n",
       "    </tr>\n",
       "    <tr>\n",
       "      <th>1</th>\n",
       "      <td>Coal</td>\n",
       "      <td>0.722283</td>\n",
       "    </tr>\n",
       "    <tr>\n",
       "      <th>2</th>\n",
       "      <td>Combined cycle</td>\n",
       "      <td>0.661543</td>\n",
       "    </tr>\n",
       "    <tr>\n",
       "      <th>3</th>\n",
       "      <td>Combustion turbine</td>\n",
       "      <td>0.501531</td>\n",
       "    </tr>\n",
       "    <tr>\n",
       "      <th>4</th>\n",
       "      <td>Distributed generation</td>\n",
       "      <td>0.147015</td>\n",
       "    </tr>\n",
       "    <tr>\n",
       "      <th>5</th>\n",
       "      <td>Fuel cell</td>\n",
       "      <td>0.865455</td>\n",
       "    </tr>\n",
       "    <tr>\n",
       "      <th>6</th>\n",
       "      <td>Geothermal</td>\n",
       "      <td>0.821469</td>\n",
       "    </tr>\n",
       "    <tr>\n",
       "      <th>7</th>\n",
       "      <td>Hydroelectric</td>\n",
       "      <td>0.578795</td>\n",
       "    </tr>\n",
       "    <tr>\n",
       "      <th>8</th>\n",
       "      <td>Land-based wind</td>\n",
       "      <td>0.408919</td>\n",
       "    </tr>\n",
       "    <tr>\n",
       "      <th>9</th>\n",
       "      <td>Nuclear</td>\n",
       "      <td>0.781841</td>\n",
       "    </tr>\n",
       "    <tr>\n",
       "      <th>10</th>\n",
       "      <td>Ocean</td>\n",
       "      <td>0.255000</td>\n",
       "    </tr>\n",
       "    <tr>\n",
       "      <th>11</th>\n",
       "      <td>Photovoltaic</td>\n",
       "      <td>0.217551</td>\n",
       "    </tr>\n",
       "    <tr>\n",
       "      <th>12</th>\n",
       "      <td>Small hydro</td>\n",
       "      <td>0.408800</td>\n",
       "    </tr>\n",
       "    <tr>\n",
       "      <th>13</th>\n",
       "      <td>Solar thermal</td>\n",
       "      <td>0.382046</td>\n",
       "    </tr>\n",
       "    <tr>\n",
       "      <th>14</th>\n",
       "      <td>Wind-offshore</td>\n",
       "      <td>0.453447</td>\n",
       "    </tr>\n",
       "  </tbody>\n",
       "</table>\n",
       "</div>"
      ],
      "text/plain": [
       "                Technology  AvgCapacityFactor\n",
       "0                 Biopower           0.731789\n",
       "1                     Coal           0.722283\n",
       "2           Combined cycle           0.661543\n",
       "3       Combustion turbine           0.501531\n",
       "4   Distributed generation           0.147015\n",
       "5                Fuel cell           0.865455\n",
       "6               Geothermal           0.821469\n",
       "7            Hydroelectric           0.578795\n",
       "8          Land-based wind           0.408919\n",
       "9                  Nuclear           0.781841\n",
       "10                   Ocean           0.255000\n",
       "11            Photovoltaic           0.217551\n",
       "12             Small hydro           0.408800\n",
       "13           Solar thermal           0.382046\n",
       "14           Wind-offshore           0.453447"
      ]
     },
     "execution_count": 44,
     "metadata": {},
     "output_type": "execute_result"
    }
   ],
   "source": [
    "# Find means of CF\n",
    "cfmean = CF.groupby('Technology',as_index=False)['AvgCapacityFactor'].mean()\n",
    "cfmean"
   ]
  },
  {
   "cell_type": "code",
   "execution_count": 45,
   "metadata": {},
   "outputs": [
    {
     "data": {
      "text/html": [
       "<div>\n",
       "<style scoped>\n",
       "    .dataframe tbody tr th:only-of-type {\n",
       "        vertical-align: middle;\n",
       "    }\n",
       "\n",
       "    .dataframe tbody tr th {\n",
       "        vertical-align: top;\n",
       "    }\n",
       "\n",
       "    .dataframe thead th {\n",
       "        text-align: right;\n",
       "    }\n",
       "</style>\n",
       "<table border=\"1\" class=\"dataframe\">\n",
       "  <thead>\n",
       "    <tr style=\"text-align: right;\">\n",
       "      <th></th>\n",
       "      <th>Technology</th>\n",
       "      <th>AvgCapacityFactor</th>\n",
       "    </tr>\n",
       "  </thead>\n",
       "  <tbody>\n",
       "    <tr>\n",
       "      <th>0</th>\n",
       "      <td>Biopower</td>\n",
       "      <td>0.900000</td>\n",
       "    </tr>\n",
       "    <tr>\n",
       "      <th>1</th>\n",
       "      <td>Coal</td>\n",
       "      <td>0.930000</td>\n",
       "    </tr>\n",
       "    <tr>\n",
       "      <th>2</th>\n",
       "      <td>Combined cycle</td>\n",
       "      <td>0.930000</td>\n",
       "    </tr>\n",
       "    <tr>\n",
       "      <th>3</th>\n",
       "      <td>Combustion turbine</td>\n",
       "      <td>0.920000</td>\n",
       "    </tr>\n",
       "    <tr>\n",
       "      <th>4</th>\n",
       "      <td>Distributed generation</td>\n",
       "      <td>0.950000</td>\n",
       "    </tr>\n",
       "    <tr>\n",
       "      <th>5</th>\n",
       "      <td>Fuel cell</td>\n",
       "      <td>0.970000</td>\n",
       "    </tr>\n",
       "    <tr>\n",
       "      <th>6</th>\n",
       "      <td>Geothermal</td>\n",
       "      <td>0.980000</td>\n",
       "    </tr>\n",
       "    <tr>\n",
       "      <th>7</th>\n",
       "      <td>Hydroelectric</td>\n",
       "      <td>0.931950</td>\n",
       "    </tr>\n",
       "    <tr>\n",
       "      <th>8</th>\n",
       "      <td>Land-based wind</td>\n",
       "      <td>0.530000</td>\n",
       "    </tr>\n",
       "    <tr>\n",
       "      <th>9</th>\n",
       "      <td>Nuclear</td>\n",
       "      <td>0.902400</td>\n",
       "    </tr>\n",
       "    <tr>\n",
       "      <th>10</th>\n",
       "      <td>Ocean</td>\n",
       "      <td>0.255000</td>\n",
       "    </tr>\n",
       "    <tr>\n",
       "      <th>11</th>\n",
       "      <td>Photovoltaic</td>\n",
       "      <td>0.384119</td>\n",
       "    </tr>\n",
       "    <tr>\n",
       "      <th>12</th>\n",
       "      <td>Small hydro</td>\n",
       "      <td>0.615000</td>\n",
       "    </tr>\n",
       "    <tr>\n",
       "      <th>13</th>\n",
       "      <td>Solar thermal</td>\n",
       "      <td>0.816200</td>\n",
       "    </tr>\n",
       "    <tr>\n",
       "      <th>14</th>\n",
       "      <td>Wind-offshore</td>\n",
       "      <td>0.550000</td>\n",
       "    </tr>\n",
       "  </tbody>\n",
       "</table>\n",
       "</div>"
      ],
      "text/plain": [
       "                Technology  AvgCapacityFactor\n",
       "0                 Biopower           0.900000\n",
       "1                     Coal           0.930000\n",
       "2           Combined cycle           0.930000\n",
       "3       Combustion turbine           0.920000\n",
       "4   Distributed generation           0.950000\n",
       "5                Fuel cell           0.970000\n",
       "6               Geothermal           0.980000\n",
       "7            Hydroelectric           0.931950\n",
       "8          Land-based wind           0.530000\n",
       "9                  Nuclear           0.902400\n",
       "10                   Ocean           0.255000\n",
       "11            Photovoltaic           0.384119\n",
       "12             Small hydro           0.615000\n",
       "13           Solar thermal           0.816200\n",
       "14           Wind-offshore           0.550000"
      ]
     },
     "execution_count": 45,
     "metadata": {},
     "output_type": "execute_result"
    }
   ],
   "source": [
    "# Find max of CF\n",
    "CF.groupby('Technology',as_index=False)['AvgCapacityFactor'].max()"
   ]
  },
  {
   "cell_type": "code",
   "execution_count": 46,
   "metadata": {},
   "outputs": [
    {
     "data": {
      "text/html": [
       "<div>\n",
       "<style scoped>\n",
       "    .dataframe tbody tr th:only-of-type {\n",
       "        vertical-align: middle;\n",
       "    }\n",
       "\n",
       "    .dataframe tbody tr th {\n",
       "        vertical-align: top;\n",
       "    }\n",
       "\n",
       "    .dataframe thead th {\n",
       "        text-align: right;\n",
       "    }\n",
       "</style>\n",
       "<table border=\"1\" class=\"dataframe\">\n",
       "  <thead>\n",
       "    <tr style=\"text-align: right;\">\n",
       "      <th></th>\n",
       "      <th>Technology</th>\n",
       "      <th>AvgCapacityFactor</th>\n",
       "    </tr>\n",
       "  </thead>\n",
       "  <tbody>\n",
       "    <tr>\n",
       "      <th>0</th>\n",
       "      <td>Biopower</td>\n",
       "      <td>0.000</td>\n",
       "    </tr>\n",
       "    <tr>\n",
       "      <th>1</th>\n",
       "      <td>Coal</td>\n",
       "      <td>0.000</td>\n",
       "    </tr>\n",
       "    <tr>\n",
       "      <th>2</th>\n",
       "      <td>Combined cycle</td>\n",
       "      <td>0.000</td>\n",
       "    </tr>\n",
       "    <tr>\n",
       "      <th>3</th>\n",
       "      <td>Combustion turbine</td>\n",
       "      <td>0.000</td>\n",
       "    </tr>\n",
       "    <tr>\n",
       "      <th>4</th>\n",
       "      <td>Distributed generation</td>\n",
       "      <td>0.000</td>\n",
       "    </tr>\n",
       "    <tr>\n",
       "      <th>5</th>\n",
       "      <td>Fuel cell</td>\n",
       "      <td>0.000</td>\n",
       "    </tr>\n",
       "    <tr>\n",
       "      <th>6</th>\n",
       "      <td>Geothermal</td>\n",
       "      <td>0.000</td>\n",
       "    </tr>\n",
       "    <tr>\n",
       "      <th>7</th>\n",
       "      <td>Hydroelectric</td>\n",
       "      <td>0.000</td>\n",
       "    </tr>\n",
       "    <tr>\n",
       "      <th>8</th>\n",
       "      <td>Land-based wind</td>\n",
       "      <td>0.000</td>\n",
       "    </tr>\n",
       "    <tr>\n",
       "      <th>9</th>\n",
       "      <td>Nuclear</td>\n",
       "      <td>0.000</td>\n",
       "    </tr>\n",
       "    <tr>\n",
       "      <th>10</th>\n",
       "      <td>Ocean</td>\n",
       "      <td>0.255</td>\n",
       "    </tr>\n",
       "    <tr>\n",
       "      <th>11</th>\n",
       "      <td>Photovoltaic</td>\n",
       "      <td>0.000</td>\n",
       "    </tr>\n",
       "    <tr>\n",
       "      <th>12</th>\n",
       "      <td>Small hydro</td>\n",
       "      <td>0.125</td>\n",
       "    </tr>\n",
       "    <tr>\n",
       "      <th>13</th>\n",
       "      <td>Solar thermal</td>\n",
       "      <td>0.000</td>\n",
       "    </tr>\n",
       "    <tr>\n",
       "      <th>14</th>\n",
       "      <td>Wind-offshore</td>\n",
       "      <td>0.000</td>\n",
       "    </tr>\n",
       "  </tbody>\n",
       "</table>\n",
       "</div>"
      ],
      "text/plain": [
       "                Technology  AvgCapacityFactor\n",
       "0                 Biopower              0.000\n",
       "1                     Coal              0.000\n",
       "2           Combined cycle              0.000\n",
       "3       Combustion turbine              0.000\n",
       "4   Distributed generation              0.000\n",
       "5                Fuel cell              0.000\n",
       "6               Geothermal              0.000\n",
       "7            Hydroelectric              0.000\n",
       "8          Land-based wind              0.000\n",
       "9                  Nuclear              0.000\n",
       "10                   Ocean              0.255\n",
       "11            Photovoltaic              0.000\n",
       "12             Small hydro              0.125\n",
       "13           Solar thermal              0.000\n",
       "14           Wind-offshore              0.000"
      ]
     },
     "execution_count": 46,
     "metadata": {},
     "output_type": "execute_result"
    }
   ],
   "source": [
    "# Find min of CF\n",
    "CF.groupby('Technology',as_index=False)['AvgCapacityFactor'].min()"
   ]
  },
  {
   "cell_type": "code",
   "execution_count": 47,
   "metadata": {},
   "outputs": [
    {
     "data": {
      "image/png": "[encoded data removed]",
      "text/plain": [
       "<Figure size 1440x1440 with 1 Axes>"
      ]
     },
     "metadata": {
      "needs_background": "light"
     },
     "output_type": "display_data"
    }
   ],
   "source": [
    "# Scatter Plot\n",
    "#colors = {'Biopower':'green', 'Hydroelectric':'green','Geothermal':'green','Photovoltaic':'green','Solar thermal':'green', 'Land-based wind':'green','Small hydro':'green','Ocean':'green', 'Wind-offshore':'green'}\n",
    "cfsct = CF.plot.scatter(x='Technology',y='AvgCapacityFactor', figsize=(20,20))\n",
    "cfsct.set_xlabel(\"Technology\")\n",
    "cfsct.set_ylabel(\"Capacity Factor\")\n",
    "plt.xticks(rotation=90);"
   ]
  },
  {
   "cell_type": "code",
   "execution_count": 48,
   "metadata": {},
   "outputs": [
    {
     "data": {
      "image/png": "[encoded data removed]",
      "text/plain": [
       "<Figure size 1440x1440 with 1 Axes>"
      ]
     },
     "metadata": {
      "needs_background": "light"
     },
     "output_type": "display_data"
    }
   ],
   "source": [
    "# Box and Whiskeer plot to see the outliers\n",
    "cfsct1 = CF.boxplot(by = 'Technology' , column = ['AvgCapacityFactor'], figsize=(20,20))\n",
    "cfsct1.set_xlabel(\"Technology\")\n",
    "cfsct1.set_ylabel(\"Capacity Factor\")\n",
    "plt.xticks(rotation=90);"
   ]
  },
  {
   "cell_type": "code",
   "execution_count": 105,
   "metadata": {},
   "outputs": [
    {
     "data": {
      "image/png": "[encoded data removed]",
      "text/plain": [
       "<Figure size 720x720 with 1 Axes>"
      ]
     },
     "metadata": {
      "needs_background": "light"
     },
     "output_type": "display_data"
    }
   ],
   "source": [
    "cfbar = cfmean.plot(kind = 'bar', x='Technology',y='AvgCapacityFactor', figsize=(10,10),position=1 , color = 'orange' )\n",
    "cfbar.set_xlabel(\"Technology\")\n",
    "cfbar.set_ylabel(\"Capacity Factor\")\n",
    "plt.xticks(rotation=90);"
   ]
  },
  {
   "cell_type": "code",
   "execution_count": 50,
   "metadata": {},
   "outputs": [
    {
     "data": {
      "text/plain": [
       "['Combined cycle',\n",
       " 'Biopower',\n",
       " 'Combustion turbine',\n",
       " 'Geothermal',\n",
       " 'Coal',\n",
       " 'Nuclear',\n",
       " 'Solar thermal',\n",
       " 'Photovoltaic',\n",
       " 'Hydroelectric',\n",
       " 'Land-based wind',\n",
       " 'Wind-offshore',\n",
       " 'Distributed generation',\n",
       " 'Fuel cell']"
      ]
     },
     "execution_count": 50,
     "metadata": {},
     "output_type": "execute_result"
    }
   ],
   "source": [
    "# Technologies with Thermal Efficiency\n",
    "TE = newdata.dropna(subset = ['ThermalEfficiency'])\n",
    "TE['Technology'].unique().tolist()"
   ]
  },
  {
   "cell_type": "code",
   "execution_count": 51,
   "metadata": {},
   "outputs": [
    {
     "data": {
      "text/plain": [
       "13"
      ]
     },
     "execution_count": 51,
     "metadata": {},
     "output_type": "execute_result"
    }
   ],
   "source": [
    "# Number of technologies with TE\n",
    "len(TE['Technology'].unique().tolist())"
   ]
  },
  {
   "cell_type": "code",
   "execution_count": 52,
   "metadata": {},
   "outputs": [
    {
     "data": {
      "text/html": [
       "<div>\n",
       "<style scoped>\n",
       "    .dataframe tbody tr th:only-of-type {\n",
       "        vertical-align: middle;\n",
       "    }\n",
       "\n",
       "    .dataframe tbody tr th {\n",
       "        vertical-align: top;\n",
       "    }\n",
       "\n",
       "    .dataframe thead th {\n",
       "        text-align: right;\n",
       "    }\n",
       "</style>\n",
       "<table border=\"1\" class=\"dataframe\">\n",
       "  <thead>\n",
       "    <tr style=\"text-align: right;\">\n",
       "      <th></th>\n",
       "      <th>Technology</th>\n",
       "      <th>ThermalEfficiency</th>\n",
       "    </tr>\n",
       "  </thead>\n",
       "  <tbody>\n",
       "    <tr>\n",
       "      <th>0</th>\n",
       "      <td>Biopower</td>\n",
       "      <td>0.166909</td>\n",
       "    </tr>\n",
       "    <tr>\n",
       "      <th>1</th>\n",
       "      <td>Coal</td>\n",
       "      <td>0.232490</td>\n",
       "    </tr>\n",
       "    <tr>\n",
       "      <th>2</th>\n",
       "      <td>Combined cycle</td>\n",
       "      <td>0.275490</td>\n",
       "    </tr>\n",
       "    <tr>\n",
       "      <th>3</th>\n",
       "      <td>Combustion turbine</td>\n",
       "      <td>0.366395</td>\n",
       "    </tr>\n",
       "    <tr>\n",
       "      <th>4</th>\n",
       "      <td>Distributed generation</td>\n",
       "      <td>0.000000</td>\n",
       "    </tr>\n",
       "    <tr>\n",
       "      <th>5</th>\n",
       "      <td>Fuel cell</td>\n",
       "      <td>0.000000</td>\n",
       "    </tr>\n",
       "    <tr>\n",
       "      <th>6</th>\n",
       "      <td>Geothermal</td>\n",
       "      <td>0.062162</td>\n",
       "    </tr>\n",
       "    <tr>\n",
       "      <th>7</th>\n",
       "      <td>Hydroelectric</td>\n",
       "      <td>0.000000</td>\n",
       "    </tr>\n",
       "    <tr>\n",
       "      <th>8</th>\n",
       "      <td>Land-based wind</td>\n",
       "      <td>0.000000</td>\n",
       "    </tr>\n",
       "    <tr>\n",
       "      <th>9</th>\n",
       "      <td>Nuclear</td>\n",
       "      <td>0.222286</td>\n",
       "    </tr>\n",
       "    <tr>\n",
       "      <th>10</th>\n",
       "      <td>Photovoltaic</td>\n",
       "      <td>0.000000</td>\n",
       "    </tr>\n",
       "    <tr>\n",
       "      <th>11</th>\n",
       "      <td>Solar thermal</td>\n",
       "      <td>0.933333</td>\n",
       "    </tr>\n",
       "    <tr>\n",
       "      <th>12</th>\n",
       "      <td>Wind-offshore</td>\n",
       "      <td>0.000000</td>\n",
       "    </tr>\n",
       "  </tbody>\n",
       "</table>\n",
       "</div>"
      ],
      "text/plain": [
       "                Technology  ThermalEfficiency\n",
       "0                 Biopower           0.166909\n",
       "1                     Coal           0.232490\n",
       "2           Combined cycle           0.275490\n",
       "3       Combustion turbine           0.366395\n",
       "4   Distributed generation           0.000000\n",
       "5                Fuel cell           0.000000\n",
       "6               Geothermal           0.062162\n",
       "7            Hydroelectric           0.000000\n",
       "8          Land-based wind           0.000000\n",
       "9                  Nuclear           0.222286\n",
       "10            Photovoltaic           0.000000\n",
       "11           Solar thermal           0.933333\n",
       "12           Wind-offshore           0.000000"
      ]
     },
     "execution_count": 52,
     "metadata": {},
     "output_type": "execute_result"
    }
   ],
   "source": [
    "# Find means of TE\n",
    "temean = TE.groupby('Technology',as_index=False)['ThermalEfficiency'].mean()\n",
    "temean"
   ]
  },
  {
   "cell_type": "code",
   "execution_count": 53,
   "metadata": {},
   "outputs": [
    {
     "data": {
      "text/html": [
       "<div>\n",
       "<style scoped>\n",
       "    .dataframe tbody tr th:only-of-type {\n",
       "        vertical-align: middle;\n",
       "    }\n",
       "\n",
       "    .dataframe tbody tr th {\n",
       "        vertical-align: top;\n",
       "    }\n",
       "\n",
       "    .dataframe thead th {\n",
       "        text-align: right;\n",
       "    }\n",
       "</style>\n",
       "<table border=\"1\" class=\"dataframe\">\n",
       "  <thead>\n",
       "    <tr style=\"text-align: right;\">\n",
       "      <th></th>\n",
       "      <th>Technology</th>\n",
       "      <th>ThermalEfficiency</th>\n",
       "    </tr>\n",
       "  </thead>\n",
       "  <tbody>\n",
       "    <tr>\n",
       "      <th>0</th>\n",
       "      <td>Biopower</td>\n",
       "      <td>0.399250</td>\n",
       "    </tr>\n",
       "    <tr>\n",
       "      <th>1</th>\n",
       "      <td>Coal</td>\n",
       "      <td>0.469598</td>\n",
       "    </tr>\n",
       "    <tr>\n",
       "      <th>2</th>\n",
       "      <td>Combined cycle</td>\n",
       "      <td>0.639637</td>\n",
       "    </tr>\n",
       "    <tr>\n",
       "      <th>3</th>\n",
       "      <td>Combustion turbine</td>\n",
       "      <td>0.402044</td>\n",
       "    </tr>\n",
       "    <tr>\n",
       "      <th>4</th>\n",
       "      <td>Distributed generation</td>\n",
       "      <td>0.000000</td>\n",
       "    </tr>\n",
       "    <tr>\n",
       "      <th>5</th>\n",
       "      <td>Fuel cell</td>\n",
       "      <td>0.000000</td>\n",
       "    </tr>\n",
       "    <tr>\n",
       "      <th>6</th>\n",
       "      <td>Geothermal</td>\n",
       "      <td>0.100000</td>\n",
       "    </tr>\n",
       "    <tr>\n",
       "      <th>7</th>\n",
       "      <td>Hydroelectric</td>\n",
       "      <td>0.000000</td>\n",
       "    </tr>\n",
       "    <tr>\n",
       "      <th>8</th>\n",
       "      <td>Land-based wind</td>\n",
       "      <td>0.000000</td>\n",
       "    </tr>\n",
       "    <tr>\n",
       "      <th>9</th>\n",
       "      <td>Nuclear</td>\n",
       "      <td>0.340000</td>\n",
       "    </tr>\n",
       "    <tr>\n",
       "      <th>10</th>\n",
       "      <td>Photovoltaic</td>\n",
       "      <td>0.000000</td>\n",
       "    </tr>\n",
       "    <tr>\n",
       "      <th>11</th>\n",
       "      <td>Solar thermal</td>\n",
       "      <td>14.000000</td>\n",
       "    </tr>\n",
       "    <tr>\n",
       "      <th>12</th>\n",
       "      <td>Wind-offshore</td>\n",
       "      <td>0.000000</td>\n",
       "    </tr>\n",
       "  </tbody>\n",
       "</table>\n",
       "</div>"
      ],
      "text/plain": [
       "                Technology  ThermalEfficiency\n",
       "0                 Biopower           0.399250\n",
       "1                     Coal           0.469598\n",
       "2           Combined cycle           0.639637\n",
       "3       Combustion turbine           0.402044\n",
       "4   Distributed generation           0.000000\n",
       "5                Fuel cell           0.000000\n",
       "6               Geothermal           0.100000\n",
       "7            Hydroelectric           0.000000\n",
       "8          Land-based wind           0.000000\n",
       "9                  Nuclear           0.340000\n",
       "10            Photovoltaic           0.000000\n",
       "11           Solar thermal          14.000000\n",
       "12           Wind-offshore           0.000000"
      ]
     },
     "execution_count": 53,
     "metadata": {},
     "output_type": "execute_result"
    }
   ],
   "source": [
    "TE.groupby('Technology',as_index=False)['ThermalEfficiency'].max()"
   ]
  },
  {
   "cell_type": "code",
   "execution_count": 54,
   "metadata": {},
   "outputs": [
    {
     "data": {
      "text/html": [
       "<div>\n",
       "<style scoped>\n",
       "    .dataframe tbody tr th:only-of-type {\n",
       "        vertical-align: middle;\n",
       "    }\n",
       "\n",
       "    .dataframe tbody tr th {\n",
       "        vertical-align: top;\n",
       "    }\n",
       "\n",
       "    .dataframe thead th {\n",
       "        text-align: right;\n",
       "    }\n",
       "</style>\n",
       "<table border=\"1\" class=\"dataframe\">\n",
       "  <thead>\n",
       "    <tr style=\"text-align: right;\">\n",
       "      <th></th>\n",
       "      <th>Technology</th>\n",
       "      <th>ThermalEfficiency</th>\n",
       "    </tr>\n",
       "  </thead>\n",
       "  <tbody>\n",
       "    <tr>\n",
       "      <th>0</th>\n",
       "      <td>Biopower</td>\n",
       "      <td>0.0</td>\n",
       "    </tr>\n",
       "    <tr>\n",
       "      <th>1</th>\n",
       "      <td>Coal</td>\n",
       "      <td>0.0</td>\n",
       "    </tr>\n",
       "    <tr>\n",
       "      <th>2</th>\n",
       "      <td>Combined cycle</td>\n",
       "      <td>0.0</td>\n",
       "    </tr>\n",
       "    <tr>\n",
       "      <th>3</th>\n",
       "      <td>Combustion turbine</td>\n",
       "      <td>0.0</td>\n",
       "    </tr>\n",
       "    <tr>\n",
       "      <th>4</th>\n",
       "      <td>Distributed generation</td>\n",
       "      <td>0.0</td>\n",
       "    </tr>\n",
       "    <tr>\n",
       "      <th>5</th>\n",
       "      <td>Fuel cell</td>\n",
       "      <td>0.0</td>\n",
       "    </tr>\n",
       "    <tr>\n",
       "      <th>6</th>\n",
       "      <td>Geothermal</td>\n",
       "      <td>0.0</td>\n",
       "    </tr>\n",
       "    <tr>\n",
       "      <th>7</th>\n",
       "      <td>Hydroelectric</td>\n",
       "      <td>0.0</td>\n",
       "    </tr>\n",
       "    <tr>\n",
       "      <th>8</th>\n",
       "      <td>Land-based wind</td>\n",
       "      <td>0.0</td>\n",
       "    </tr>\n",
       "    <tr>\n",
       "      <th>9</th>\n",
       "      <td>Nuclear</td>\n",
       "      <td>0.0</td>\n",
       "    </tr>\n",
       "    <tr>\n",
       "      <th>10</th>\n",
       "      <td>Photovoltaic</td>\n",
       "      <td>0.0</td>\n",
       "    </tr>\n",
       "    <tr>\n",
       "      <th>11</th>\n",
       "      <td>Solar thermal</td>\n",
       "      <td>0.0</td>\n",
       "    </tr>\n",
       "    <tr>\n",
       "      <th>12</th>\n",
       "      <td>Wind-offshore</td>\n",
       "      <td>0.0</td>\n",
       "    </tr>\n",
       "  </tbody>\n",
       "</table>\n",
       "</div>"
      ],
      "text/plain": [
       "                Technology  ThermalEfficiency\n",
       "0                 Biopower                0.0\n",
       "1                     Coal                0.0\n",
       "2           Combined cycle                0.0\n",
       "3       Combustion turbine                0.0\n",
       "4   Distributed generation                0.0\n",
       "5                Fuel cell                0.0\n",
       "6               Geothermal                0.0\n",
       "7            Hydroelectric                0.0\n",
       "8          Land-based wind                0.0\n",
       "9                  Nuclear                0.0\n",
       "10            Photovoltaic                0.0\n",
       "11           Solar thermal                0.0\n",
       "12           Wind-offshore                0.0"
      ]
     },
     "execution_count": 54,
     "metadata": {},
     "output_type": "execute_result"
    }
   ],
   "source": [
    "TE.groupby('Technology',as_index=False)['ThermalEfficiency'].min()"
   ]
  },
  {
   "cell_type": "code",
   "execution_count": 55,
   "metadata": {},
   "outputs": [
    {
     "data": {
      "image/png": "[encoded data removed]",
      "text/plain": [
       "<Figure size 1440x1440 with 1 Axes>"
      ]
     },
     "metadata": {
      "needs_background": "light"
     },
     "output_type": "display_data"
    }
   ],
   "source": [
    "# Scatter Plot\n",
    "#colors = {'Biopower':'green', 'Hydroelectric':'green','Geothermal':'green','Photovoltaic':'green','Solar thermal':'green', 'Land-based wind':'green','Small hydro':'green','Ocean':'green', 'Wind-offshore':'green'}\n",
    "tesct = TE.plot.scatter(x='Technology',y='ThermalEfficiency', figsize=(20,20))\n",
    "tesct.set_xlabel(\"Technology\")\n",
    "tesct.set_ylabel(\"Thermal Efficiency\")\n",
    "plt.xticks(rotation=90);"
   ]
  },
  {
   "cell_type": "code",
   "execution_count": 56,
   "metadata": {},
   "outputs": [
    {
     "data": {
      "image/png": "[encoded data removed]",
      "text/plain": [
       "<Figure size 1440x1440 with 1 Axes>"
      ]
     },
     "metadata": {
      "needs_background": "light"
     },
     "output_type": "display_data"
    }
   ],
   "source": [
    "# Box and Whiskeer plot to see the outliers\n",
    "tesct1 = TE.boxplot(by = 'Technology' , column = ['ThermalEfficiency'], figsize=(20,20))\n",
    "tesct1.set_xlabel(\"Technology\")\n",
    "tesct1.set_ylabel(\"Capacity Factor\")\n",
    "plt.xticks(rotation=90);"
   ]
  },
  {
   "cell_type": "code",
   "execution_count": 110,
   "metadata": {},
   "outputs": [
    {
     "data": {
      "image/png": "[encoded data removed]",
      "text/plain": [
       "<Figure size 720x720 with 2 Axes>"
      ]
     },
     "metadata": {
      "needs_background": "light"
     },
     "output_type": "display_data"
    }
   ],
   "source": [
    "fig = plt.figure()\n",
    "ax1 = fig.add_subplot(111)\n",
    "ax2 = ax1.twinx()\n",
    "ax1.set_ylabel('Capacity Factor')\n",
    "ax2.set_ylabel('Thermal Efficiency')\n",
    "cfbar = cfmean.plot(kind = 'bar', x='Technology',y='AvgCapacityFactor',ax=ax1 , position=1,figsize=(10,10))\n",
    "tecbar = temean.plot(kind = 'bar', x='Technology',y='ThermalEfficiency',ax=ax2 , color='orange',position=0,figsize=(10,10))\n",
    "#cfbar.set_xlabel(\"Technology\")\n",
    "#cfbar.set_ylabel(\"Capacity Factor\")\n",
    "plt.xticks(rotation=90);"
   ]
  },
  {
   "cell_type": "code",
   "execution_count": 58,
   "metadata": {},
   "outputs": [
    {
     "data": {
      "text/plain": [
       "['Combined cycle',\n",
       " 'Combustion turbine',\n",
       " 'Biopower',\n",
       " 'Hydroelectric',\n",
       " 'Distributed generation',\n",
       " 'Fuel cell',\n",
       " 'Geothermal',\n",
       " 'Coal',\n",
       " 'Nuclear',\n",
       " 'Photovoltaic',\n",
       " 'Solar thermal',\n",
       " 'Land-based wind',\n",
       " 'Wind-offshore',\n",
       " 'Ocean']"
      ]
     },
     "execution_count": 58,
     "metadata": {},
     "output_type": "execute_result"
    }
   ],
   "source": [
    "# Technologies with Lead Time\n",
    "LT = newdata.dropna(subset = ['Leadtimeyears'])\n",
    "LT['Technology'].unique().tolist()"
   ]
  },
  {
   "cell_type": "code",
   "execution_count": 59,
   "metadata": {},
   "outputs": [
    {
     "data": {
      "text/plain": [
       "14"
      ]
     },
     "execution_count": 59,
     "metadata": {},
     "output_type": "execute_result"
    }
   ],
   "source": [
    "# Number of technologies with LT\n",
    "len(LT['Technology'].unique().tolist())"
   ]
  },
  {
   "cell_type": "code",
   "execution_count": 60,
   "metadata": {},
   "outputs": [
    {
     "data": {
      "text/html": [
       "<div>\n",
       "<style scoped>\n",
       "    .dataframe tbody tr th:only-of-type {\n",
       "        vertical-align: middle;\n",
       "    }\n",
       "\n",
       "    .dataframe tbody tr th {\n",
       "        vertical-align: top;\n",
       "    }\n",
       "\n",
       "    .dataframe thead th {\n",
       "        text-align: right;\n",
       "    }\n",
       "</style>\n",
       "<table border=\"1\" class=\"dataframe\">\n",
       "  <thead>\n",
       "    <tr style=\"text-align: right;\">\n",
       "      <th></th>\n",
       "      <th>Technology</th>\n",
       "      <th>Leadtimeyears</th>\n",
       "    </tr>\n",
       "  </thead>\n",
       "  <tbody>\n",
       "    <tr>\n",
       "      <th>0</th>\n",
       "      <td>Biopower</td>\n",
       "      <td>2.684451</td>\n",
       "    </tr>\n",
       "    <tr>\n",
       "      <th>1</th>\n",
       "      <td>Coal</td>\n",
       "      <td>3.194678</td>\n",
       "    </tr>\n",
       "    <tr>\n",
       "      <th>2</th>\n",
       "      <td>Combined cycle</td>\n",
       "      <td>1.944472</td>\n",
       "    </tr>\n",
       "    <tr>\n",
       "      <th>3</th>\n",
       "      <td>Combustion turbine</td>\n",
       "      <td>1.884060</td>\n",
       "    </tr>\n",
       "    <tr>\n",
       "      <th>4</th>\n",
       "      <td>Distributed generation</td>\n",
       "      <td>1.254902</td>\n",
       "    </tr>\n",
       "    <tr>\n",
       "      <th>5</th>\n",
       "      <td>Fuel cell</td>\n",
       "      <td>2.544776</td>\n",
       "    </tr>\n",
       "    <tr>\n",
       "      <th>6</th>\n",
       "      <td>Geothermal</td>\n",
       "      <td>3.196532</td>\n",
       "    </tr>\n",
       "    <tr>\n",
       "      <th>7</th>\n",
       "      <td>Hydroelectric</td>\n",
       "      <td>2.169811</td>\n",
       "    </tr>\n",
       "    <tr>\n",
       "      <th>8</th>\n",
       "      <td>Land-based wind</td>\n",
       "      <td>1.626812</td>\n",
       "    </tr>\n",
       "    <tr>\n",
       "      <th>9</th>\n",
       "      <td>Nuclear</td>\n",
       "      <td>4.872951</td>\n",
       "    </tr>\n",
       "    <tr>\n",
       "      <th>10</th>\n",
       "      <td>Ocean</td>\n",
       "      <td>2.000000</td>\n",
       "    </tr>\n",
       "    <tr>\n",
       "      <th>11</th>\n",
       "      <td>Photovoltaic</td>\n",
       "      <td>1.190000</td>\n",
       "    </tr>\n",
       "    <tr>\n",
       "      <th>12</th>\n",
       "      <td>Solar thermal</td>\n",
       "      <td>1.560606</td>\n",
       "    </tr>\n",
       "    <tr>\n",
       "      <th>13</th>\n",
       "      <td>Wind-offshore</td>\n",
       "      <td>1.448370</td>\n",
       "    </tr>\n",
       "  </tbody>\n",
       "</table>\n",
       "</div>"
      ],
      "text/plain": [
       "                Technology  Leadtimeyears\n",
       "0                 Biopower       2.684451\n",
       "1                     Coal       3.194678\n",
       "2           Combined cycle       1.944472\n",
       "3       Combustion turbine       1.884060\n",
       "4   Distributed generation       1.254902\n",
       "5                Fuel cell       2.544776\n",
       "6               Geothermal       3.196532\n",
       "7            Hydroelectric       2.169811\n",
       "8          Land-based wind       1.626812\n",
       "9                  Nuclear       4.872951\n",
       "10                   Ocean       2.000000\n",
       "11            Photovoltaic       1.190000\n",
       "12           Solar thermal       1.560606\n",
       "13           Wind-offshore       1.448370"
      ]
     },
     "execution_count": 60,
     "metadata": {},
     "output_type": "execute_result"
    }
   ],
   "source": [
    "# Find means of LT\n",
    "ltmean = LT.groupby('Technology',as_index=False)['Leadtimeyears'].mean()\n",
    "ltmean"
   ]
  },
  {
   "cell_type": "code",
   "execution_count": 61,
   "metadata": {},
   "outputs": [
    {
     "data": {
      "image/png": "[encoded data removed]",
      "text/plain": [
       "<Figure size 1440x1440 with 1 Axes>"
      ]
     },
     "metadata": {
      "needs_background": "light"
     },
     "output_type": "display_data"
    }
   ],
   "source": [
    "ltbar = ltmean.plot(kind = 'bar', x='Technology',y='Leadtimeyears', figsize=(20,20))\n",
    "ltbar.set_xlabel(\"Technology\")\n",
    "ltbar.set_ylabel(\"Lead time to build\")\n",
    "plt.xticks(rotation=90);"
   ]
  },
  {
   "cell_type": "code",
   "execution_count": 62,
   "metadata": {},
   "outputs": [
    {
     "data": {
      "text/plain": [
       "['Combined cycle',\n",
       " 'Combustion turbine',\n",
       " 'Biopower',\n",
       " 'Photovoltaic',\n",
       " 'Solar thermal',\n",
       " 'Land-based wind',\n",
       " 'Wind-offshore',\n",
       " 'Geothermal',\n",
       " 'Coal',\n",
       " 'Nuclear',\n",
       " 'Hydroelectric',\n",
       " 'Small hydro',\n",
       " 'Fuel cell',\n",
       " 'Ocean',\n",
       " 'Distributed generation']"
      ]
     },
     "execution_count": 62,
     "metadata": {},
     "output_type": "execute_result"
    }
   ],
   "source": [
    "# Technologies with Asset life\n",
    "AL = newdata.dropna(subset = ['LifetimeYears'])\n",
    "AL['Technology'].unique().tolist()"
   ]
  },
  {
   "cell_type": "code",
   "execution_count": 63,
   "metadata": {},
   "outputs": [
    {
     "data": {
      "text/plain": [
       "15"
      ]
     },
     "execution_count": 63,
     "metadata": {},
     "output_type": "execute_result"
    }
   ],
   "source": [
    "# Number of technologies with LT\n",
    "len(AL['Technology'].unique().tolist())"
   ]
  },
  {
   "cell_type": "code",
   "execution_count": 64,
   "metadata": {},
   "outputs": [
    {
     "data": {
      "text/html": [
       "<div>\n",
       "<style scoped>\n",
       "    .dataframe tbody tr th:only-of-type {\n",
       "        vertical-align: middle;\n",
       "    }\n",
       "\n",
       "    .dataframe tbody tr th {\n",
       "        vertical-align: top;\n",
       "    }\n",
       "\n",
       "    .dataframe thead th {\n",
       "        text-align: right;\n",
       "    }\n",
       "</style>\n",
       "<table border=\"1\" class=\"dataframe\">\n",
       "  <thead>\n",
       "    <tr style=\"text-align: right;\">\n",
       "      <th></th>\n",
       "      <th>Technology</th>\n",
       "      <th>LifetimeYears</th>\n",
       "    </tr>\n",
       "  </thead>\n",
       "  <tbody>\n",
       "    <tr>\n",
       "      <th>0</th>\n",
       "      <td>Biopower</td>\n",
       "      <td>35.582751</td>\n",
       "    </tr>\n",
       "    <tr>\n",
       "      <th>1</th>\n",
       "      <td>Coal</td>\n",
       "      <td>40.636503</td>\n",
       "    </tr>\n",
       "    <tr>\n",
       "      <th>2</th>\n",
       "      <td>Combined cycle</td>\n",
       "      <td>26.484185</td>\n",
       "    </tr>\n",
       "    <tr>\n",
       "      <th>3</th>\n",
       "      <td>Combustion turbine</td>\n",
       "      <td>32.455090</td>\n",
       "    </tr>\n",
       "    <tr>\n",
       "      <th>4</th>\n",
       "      <td>Distributed generation</td>\n",
       "      <td>2.857143</td>\n",
       "    </tr>\n",
       "    <tr>\n",
       "      <th>5</th>\n",
       "      <td>Fuel cell</td>\n",
       "      <td>18.285714</td>\n",
       "    </tr>\n",
       "    <tr>\n",
       "      <th>6</th>\n",
       "      <td>Geothermal</td>\n",
       "      <td>20.534884</td>\n",
       "    </tr>\n",
       "    <tr>\n",
       "      <th>7</th>\n",
       "      <td>Hydroelectric</td>\n",
       "      <td>63.409091</td>\n",
       "    </tr>\n",
       "    <tr>\n",
       "      <th>8</th>\n",
       "      <td>Land-based wind</td>\n",
       "      <td>20.831874</td>\n",
       "    </tr>\n",
       "    <tr>\n",
       "      <th>9</th>\n",
       "      <td>Nuclear</td>\n",
       "      <td>34.806630</td>\n",
       "    </tr>\n",
       "    <tr>\n",
       "      <th>10</th>\n",
       "      <td>Ocean</td>\n",
       "      <td>30.000000</td>\n",
       "    </tr>\n",
       "    <tr>\n",
       "      <th>11</th>\n",
       "      <td>Photovoltaic</td>\n",
       "      <td>27.201835</td>\n",
       "    </tr>\n",
       "    <tr>\n",
       "      <th>12</th>\n",
       "      <td>Small hydro</td>\n",
       "      <td>30.000000</td>\n",
       "    </tr>\n",
       "    <tr>\n",
       "      <th>13</th>\n",
       "      <td>Solar thermal</td>\n",
       "      <td>26.612903</td>\n",
       "    </tr>\n",
       "    <tr>\n",
       "      <th>14</th>\n",
       "      <td>Wind-offshore</td>\n",
       "      <td>19.456929</td>\n",
       "    </tr>\n",
       "  </tbody>\n",
       "</table>\n",
       "</div>"
      ],
      "text/plain": [
       "                Technology  LifetimeYears\n",
       "0                 Biopower      35.582751\n",
       "1                     Coal      40.636503\n",
       "2           Combined cycle      26.484185\n",
       "3       Combustion turbine      32.455090\n",
       "4   Distributed generation       2.857143\n",
       "5                Fuel cell      18.285714\n",
       "6               Geothermal      20.534884\n",
       "7            Hydroelectric      63.409091\n",
       "8          Land-based wind      20.831874\n",
       "9                  Nuclear      34.806630\n",
       "10                   Ocean      30.000000\n",
       "11            Photovoltaic      27.201835\n",
       "12             Small hydro      30.000000\n",
       "13           Solar thermal      26.612903\n",
       "14           Wind-offshore      19.456929"
      ]
     },
     "execution_count": 64,
     "metadata": {},
     "output_type": "execute_result"
    }
   ],
   "source": [
    "# Find means of AL\n",
    "almean = AL.groupby('Technology',as_index=False)['LifetimeYears'].mean()\n",
    "almean"
   ]
  },
  {
   "cell_type": "code",
   "execution_count": 112,
   "metadata": {},
   "outputs": [
    {
     "data": {
      "image/png": "[encoded data removed]",
      "text/plain": [
       "<Figure size 720x720 with 1 Axes>"
      ]
     },
     "metadata": {
      "needs_background": "light"
     },
     "output_type": "display_data"
    }
   ],
   "source": [
    "albar = almean.plot(kind = 'bar', x='Technology',y='LifetimeYears', figsize=(10,10), color = 'purple')\n",
    "albar.set_xlabel(\"Technology\")\n",
    "albar.set_ylabel(\"Asset Life\")\n",
    "plt.xticks(rotation=90);"
   ]
  },
  {
   "cell_type": "code",
   "execution_count": 66,
   "metadata": {},
   "outputs": [
    {
     "data": {
      "text/plain": [
       "['Combustion turbine',\n",
       " 'Combined cycle',\n",
       " 'Biopower',\n",
       " 'Distributed generation',\n",
       " 'Fuel cell',\n",
       " 'Coal',\n",
       " 'Solar thermal',\n",
       " 'Photovoltaic',\n",
       " 'Hydroelectric',\n",
       " 'Land-based wind',\n",
       " 'Wind-offshore',\n",
       " 'Geothermal',\n",
       " 'Nuclear']"
      ]
     },
     "execution_count": 66,
     "metadata": {},
     "output_type": "execute_result"
    }
   ],
   "source": [
    "# Technologies with CO2 Emissions\n",
    "CE = newdata.dropna(subset = ['Co2MetricTonsPerMwh'])\n",
    "CE['Technology'].unique().tolist()"
   ]
  },
  {
   "cell_type": "code",
   "execution_count": 67,
   "metadata": {},
   "outputs": [
    {
     "data": {
      "text/plain": [
       "13"
      ]
     },
     "execution_count": 67,
     "metadata": {},
     "output_type": "execute_result"
    }
   ],
   "source": [
    "# Number of technologies with LT\n",
    "len(CE['Technology'].unique().tolist())"
   ]
  },
  {
   "cell_type": "code",
   "execution_count": 68,
   "metadata": {},
   "outputs": [
    {
     "data": {
      "text/html": [
       "<div>\n",
       "<style scoped>\n",
       "    .dataframe tbody tr th:only-of-type {\n",
       "        vertical-align: middle;\n",
       "    }\n",
       "\n",
       "    .dataframe tbody tr th {\n",
       "        vertical-align: top;\n",
       "    }\n",
       "\n",
       "    .dataframe thead th {\n",
       "        text-align: right;\n",
       "    }\n",
       "</style>\n",
       "<table border=\"1\" class=\"dataframe\">\n",
       "  <thead>\n",
       "    <tr style=\"text-align: right;\">\n",
       "      <th></th>\n",
       "      <th>Technology</th>\n",
       "      <th>Co2MetricTonsPerMwh</th>\n",
       "    </tr>\n",
       "  </thead>\n",
       "  <tbody>\n",
       "    <tr>\n",
       "      <th>0</th>\n",
       "      <td>Biopower</td>\n",
       "      <td>1738.682432</td>\n",
       "    </tr>\n",
       "    <tr>\n",
       "      <th>1</th>\n",
       "      <td>Coal</td>\n",
       "      <td>1395.813008</td>\n",
       "    </tr>\n",
       "    <tr>\n",
       "      <th>2</th>\n",
       "      <td>Combined cycle</td>\n",
       "      <td>442.573379</td>\n",
       "    </tr>\n",
       "    <tr>\n",
       "      <th>3</th>\n",
       "      <td>Combustion turbine</td>\n",
       "      <td>1078.073171</td>\n",
       "    </tr>\n",
       "    <tr>\n",
       "      <th>4</th>\n",
       "      <td>Distributed generation</td>\n",
       "      <td>496.826531</td>\n",
       "    </tr>\n",
       "    <tr>\n",
       "      <th>5</th>\n",
       "      <td>Fuel cell</td>\n",
       "      <td>1581.375000</td>\n",
       "    </tr>\n",
       "    <tr>\n",
       "      <th>6</th>\n",
       "      <td>Geothermal</td>\n",
       "      <td>0.000000</td>\n",
       "    </tr>\n",
       "    <tr>\n",
       "      <th>7</th>\n",
       "      <td>Hydroelectric</td>\n",
       "      <td>0.000000</td>\n",
       "    </tr>\n",
       "    <tr>\n",
       "      <th>8</th>\n",
       "      <td>Land-based wind</td>\n",
       "      <td>0.000000</td>\n",
       "    </tr>\n",
       "    <tr>\n",
       "      <th>9</th>\n",
       "      <td>Nuclear</td>\n",
       "      <td>0.000000</td>\n",
       "    </tr>\n",
       "    <tr>\n",
       "      <th>10</th>\n",
       "      <td>Photovoltaic</td>\n",
       "      <td>0.000000</td>\n",
       "    </tr>\n",
       "    <tr>\n",
       "      <th>11</th>\n",
       "      <td>Solar thermal</td>\n",
       "      <td>0.000000</td>\n",
       "    </tr>\n",
       "    <tr>\n",
       "      <th>12</th>\n",
       "      <td>Wind-offshore</td>\n",
       "      <td>0.000000</td>\n",
       "    </tr>\n",
       "  </tbody>\n",
       "</table>\n",
       "</div>"
      ],
      "text/plain": [
       "                Technology  Co2MetricTonsPerMwh\n",
       "0                 Biopower          1738.682432\n",
       "1                     Coal          1395.813008\n",
       "2           Combined cycle           442.573379\n",
       "3       Combustion turbine          1078.073171\n",
       "4   Distributed generation           496.826531\n",
       "5                Fuel cell          1581.375000\n",
       "6               Geothermal             0.000000\n",
       "7            Hydroelectric             0.000000\n",
       "8          Land-based wind             0.000000\n",
       "9                  Nuclear             0.000000\n",
       "10            Photovoltaic             0.000000\n",
       "11           Solar thermal             0.000000\n",
       "12           Wind-offshore             0.000000"
      ]
     },
     "execution_count": 68,
     "metadata": {},
     "output_type": "execute_result"
    }
   ],
   "source": [
    "# Find means of AL\n",
    "cemean = CE.groupby('Technology',as_index=False)['Co2MetricTonsPerMwh'].mean()\n",
    "cemean"
   ]
  },
  {
   "cell_type": "code",
   "execution_count": 86,
   "metadata": {},
   "outputs": [
    {
     "data": {
      "image/png": "[encoded data removed]",
      "text/plain": [
       "<Figure size 720x720 with 1 Axes>"
      ]
     },
     "metadata": {
      "needs_background": "light"
     },
     "output_type": "display_data"
    }
   ],
   "source": [
    "cebar = cemean.plot(kind = 'bar', x='Technology',y='Co2MetricTonsPerMwh', figsize=(10,10) , color = 'red')\n",
    "cebar.set_xlabel(\"Technology\")\n",
    "cebar.set_ylabel(\"CO2 Emissions in Metric Tons/MWh\")\n",
    "plt.xticks(rotation=90);"
   ]
  },
  {
   "cell_type": "code",
   "execution_count": 70,
   "metadata": {},
   "outputs": [],
   "source": [
    "# Extract emissions data\n",
    "rco2 = pd.read_csv (r'C:\\Users\\rajpa\\Final_Project\\measurements.csv')\n",
    "hco2 = pd.read_csv (r'C:\\Users\\rajpa\\Final_Project\\measurements1.csv')"
   ]
  },
  {
   "cell_type": "code",
   "execution_count": 71,
   "metadata": {},
   "outputs": [
    {
     "data": {
      "text/html": [
       "<div>\n",
       "<style scoped>\n",
       "    .dataframe tbody tr th:only-of-type {\n",
       "        vertical-align: middle;\n",
       "    }\n",
       "\n",
       "    .dataframe tbody tr th {\n",
       "        vertical-align: top;\n",
       "    }\n",
       "\n",
       "    .dataframe thead th {\n",
       "        text-align: right;\n",
       "    }\n",
       "</style>\n",
       "<table border=\"1\" class=\"dataframe\">\n",
       "  <thead>\n",
       "    <tr style=\"text-align: right;\">\n",
       "      <th></th>\n",
       "      <th>locationId</th>\n",
       "      <th>location</th>\n",
       "      <th>city</th>\n",
       "      <th>country</th>\n",
       "      <th>utc</th>\n",
       "      <th>local</th>\n",
       "      <th>parameter</th>\n",
       "      <th>value</th>\n",
       "      <th>unit</th>\n",
       "      <th>latitude</th>\n",
       "      <th>longitude</th>\n",
       "    </tr>\n",
       "  </thead>\n",
       "  <tbody>\n",
       "    <tr>\n",
       "      <th>0</th>\n",
       "      <td>61750</td>\n",
       "      <td>Richmond, CA</td>\n",
       "      <td>Richmond</td>\n",
       "      <td>US</td>\n",
       "      <td>2019-07-28T04:00:00+00:00</td>\n",
       "      <td>2019-07-27T21:00:00-07:00</td>\n",
       "      <td>co2</td>\n",
       "      <td>483.483040</td>\n",
       "      <td>ppm</td>\n",
       "      <td>37.96694</td>\n",
       "      <td>-122.297777</td>\n",
       "    </tr>\n",
       "    <tr>\n",
       "      <th>1</th>\n",
       "      <td>61750</td>\n",
       "      <td>Richmond, CA</td>\n",
       "      <td>Richmond</td>\n",
       "      <td>US</td>\n",
       "      <td>2019-07-28T03:00:00+00:00</td>\n",
       "      <td>2019-07-27T20:00:00-07:00</td>\n",
       "      <td>co2</td>\n",
       "      <td>459.973054</td>\n",
       "      <td>ppm</td>\n",
       "      <td>37.96694</td>\n",
       "      <td>-122.297777</td>\n",
       "    </tr>\n",
       "    <tr>\n",
       "      <th>2</th>\n",
       "      <td>61750</td>\n",
       "      <td>Richmond, CA</td>\n",
       "      <td>Richmond</td>\n",
       "      <td>US</td>\n",
       "      <td>2019-07-28T02:00:00+00:00</td>\n",
       "      <td>2019-07-27T19:00:00-07:00</td>\n",
       "      <td>co2</td>\n",
       "      <td>446.644458</td>\n",
       "      <td>ppm</td>\n",
       "      <td>37.96694</td>\n",
       "      <td>-122.297777</td>\n",
       "    </tr>\n",
       "    <tr>\n",
       "      <th>3</th>\n",
       "      <td>61750</td>\n",
       "      <td>Richmond, CA</td>\n",
       "      <td>Richmond</td>\n",
       "      <td>US</td>\n",
       "      <td>2019-07-28T01:00:00+00:00</td>\n",
       "      <td>2019-07-27T18:00:00-07:00</td>\n",
       "      <td>co2</td>\n",
       "      <td>440.238702</td>\n",
       "      <td>ppm</td>\n",
       "      <td>37.96694</td>\n",
       "      <td>-122.297777</td>\n",
       "    </tr>\n",
       "    <tr>\n",
       "      <th>4</th>\n",
       "      <td>61750</td>\n",
       "      <td>Richmond, CA</td>\n",
       "      <td>Richmond</td>\n",
       "      <td>US</td>\n",
       "      <td>2019-07-28T00:00:00+00:00</td>\n",
       "      <td>2019-07-27T17:00:00-07:00</td>\n",
       "      <td>co2</td>\n",
       "      <td>439.119447</td>\n",
       "      <td>ppm</td>\n",
       "      <td>37.96694</td>\n",
       "      <td>-122.297777</td>\n",
       "    </tr>\n",
       "  </tbody>\n",
       "</table>\n",
       "</div>"
      ],
      "text/plain": [
       "   locationId      location      city country                        utc  \\\n",
       "0       61750  Richmond, CA  Richmond      US  2019-07-28T04:00:00+00:00   \n",
       "1       61750  Richmond, CA  Richmond      US  2019-07-28T03:00:00+00:00   \n",
       "2       61750  Richmond, CA  Richmond      US  2019-07-28T02:00:00+00:00   \n",
       "3       61750  Richmond, CA  Richmond      US  2019-07-28T01:00:00+00:00   \n",
       "4       61750  Richmond, CA  Richmond      US  2019-07-28T00:00:00+00:00   \n",
       "\n",
       "                       local parameter       value unit  latitude   longitude  \n",
       "0  2019-07-27T21:00:00-07:00       co2  483.483040  ppm  37.96694 -122.297777  \n",
       "1  2019-07-27T20:00:00-07:00       co2  459.973054  ppm  37.96694 -122.297777  \n",
       "2  2019-07-27T19:00:00-07:00       co2  446.644458  ppm  37.96694 -122.297777  \n",
       "3  2019-07-27T18:00:00-07:00       co2  440.238702  ppm  37.96694 -122.297777  \n",
       "4  2019-07-27T17:00:00-07:00       co2  439.119447  ppm  37.96694 -122.297777  "
      ]
     },
     "execution_count": 71,
     "metadata": {},
     "output_type": "execute_result"
    }
   ],
   "source": [
    "rco2.head()"
   ]
  },
  {
   "cell_type": "code",
   "execution_count": 72,
   "metadata": {},
   "outputs": [
    {
     "name": "stdout",
     "output_type": "stream",
     "text": [
      "<class 'pandas.core.frame.DataFrame'>\n",
      "RangeIndex: 9307 entries, 0 to 9306\n",
      "Data columns (total 11 columns):\n",
      " #   Column      Non-Null Count  Dtype  \n",
      "---  ------      --------------  -----  \n",
      " 0   locationId  9307 non-null   int64  \n",
      " 1   location    9307 non-null   object \n",
      " 2   city        9307 non-null   object \n",
      " 3   country     9307 non-null   object \n",
      " 4   utc         9307 non-null   object \n",
      " 5   local       9307 non-null   object \n",
      " 6   parameter   9307 non-null   object \n",
      " 7   value       9307 non-null   float64\n",
      " 8   unit        9307 non-null   object \n",
      " 9   latitude    9307 non-null   float64\n",
      " 10  longitude   9307 non-null   float64\n",
      "dtypes: float64(3), int64(1), object(7)\n",
      "memory usage: 799.9+ KB\n"
     ]
    }
   ],
   "source": [
    "rco2.info()"
   ]
  },
  {
   "cell_type": "code",
   "execution_count": 73,
   "metadata": {},
   "outputs": [
    {
     "data": {
      "text/html": [
       "<div>\n",
       "<style scoped>\n",
       "    .dataframe tbody tr th:only-of-type {\n",
       "        vertical-align: middle;\n",
       "    }\n",
       "\n",
       "    .dataframe tbody tr th {\n",
       "        vertical-align: top;\n",
       "    }\n",
       "\n",
       "    .dataframe thead th {\n",
       "        text-align: right;\n",
       "    }\n",
       "</style>\n",
       "<table border=\"1\" class=\"dataframe\">\n",
       "  <thead>\n",
       "    <tr style=\"text-align: right;\">\n",
       "      <th></th>\n",
       "      <th>locationId</th>\n",
       "      <th>location</th>\n",
       "      <th>city</th>\n",
       "      <th>country</th>\n",
       "      <th>utc</th>\n",
       "      <th>local</th>\n",
       "      <th>parameter</th>\n",
       "      <th>value</th>\n",
       "      <th>unit</th>\n",
       "      <th>latitude</th>\n",
       "      <th>longitude</th>\n",
       "    </tr>\n",
       "  </thead>\n",
       "  <tbody>\n",
       "    <tr>\n",
       "      <th>0</th>\n",
       "      <td>61725</td>\n",
       "      <td>Houston, TX</td>\n",
       "      <td>Houston</td>\n",
       "      <td>US</td>\n",
       "      <td>2019-06-26T18:00:00+00:00</td>\n",
       "      <td>2019-06-26T13:00:00-05:00</td>\n",
       "      <td>co2</td>\n",
       "      <td>434.73827</td>\n",
       "      <td>ppm</td>\n",
       "      <td>29.7192</td>\n",
       "      <td>-95.2775</td>\n",
       "    </tr>\n",
       "    <tr>\n",
       "      <th>1</th>\n",
       "      <td>61725</td>\n",
       "      <td>Houston, TX</td>\n",
       "      <td>Houston</td>\n",
       "      <td>US</td>\n",
       "      <td>2019-06-26T17:00:00+00:00</td>\n",
       "      <td>2019-06-26T12:00:00-05:00</td>\n",
       "      <td>co2</td>\n",
       "      <td>430.65450</td>\n",
       "      <td>ppm</td>\n",
       "      <td>29.7192</td>\n",
       "      <td>-95.2775</td>\n",
       "    </tr>\n",
       "    <tr>\n",
       "      <th>2</th>\n",
       "      <td>61725</td>\n",
       "      <td>Houston, TX</td>\n",
       "      <td>Houston</td>\n",
       "      <td>US</td>\n",
       "      <td>2019-06-26T16:00:00+00:00</td>\n",
       "      <td>2019-06-26T11:00:00-05:00</td>\n",
       "      <td>co2</td>\n",
       "      <td>430.11250</td>\n",
       "      <td>ppm</td>\n",
       "      <td>29.7192</td>\n",
       "      <td>-95.2775</td>\n",
       "    </tr>\n",
       "    <tr>\n",
       "      <th>3</th>\n",
       "      <td>61725</td>\n",
       "      <td>Houston, TX</td>\n",
       "      <td>Houston</td>\n",
       "      <td>US</td>\n",
       "      <td>2019-06-26T15:00:00+00:00</td>\n",
       "      <td>2019-06-26T10:00:00-05:00</td>\n",
       "      <td>co2</td>\n",
       "      <td>432.49250</td>\n",
       "      <td>ppm</td>\n",
       "      <td>29.7192</td>\n",
       "      <td>-95.2775</td>\n",
       "    </tr>\n",
       "    <tr>\n",
       "      <th>4</th>\n",
       "      <td>61725</td>\n",
       "      <td>Houston, TX</td>\n",
       "      <td>Houston</td>\n",
       "      <td>US</td>\n",
       "      <td>2019-06-26T14:00:00+00:00</td>\n",
       "      <td>2019-06-26T09:00:00-05:00</td>\n",
       "      <td>co2</td>\n",
       "      <td>438.77200</td>\n",
       "      <td>ppm</td>\n",
       "      <td>29.7192</td>\n",
       "      <td>-95.2775</td>\n",
       "    </tr>\n",
       "  </tbody>\n",
       "</table>\n",
       "</div>"
      ],
      "text/plain": [
       "   locationId     location     city country                        utc  \\\n",
       "0       61725  Houston, TX  Houston      US  2019-06-26T18:00:00+00:00   \n",
       "1       61725  Houston, TX  Houston      US  2019-06-26T17:00:00+00:00   \n",
       "2       61725  Houston, TX  Houston      US  2019-06-26T16:00:00+00:00   \n",
       "3       61725  Houston, TX  Houston      US  2019-06-26T15:00:00+00:00   \n",
       "4       61725  Houston, TX  Houston      US  2019-06-26T14:00:00+00:00   \n",
       "\n",
       "                       local parameter      value unit  latitude  longitude  \n",
       "0  2019-06-26T13:00:00-05:00       co2  434.73827  ppm   29.7192   -95.2775  \n",
       "1  2019-06-26T12:00:00-05:00       co2  430.65450  ppm   29.7192   -95.2775  \n",
       "2  2019-06-26T11:00:00-05:00       co2  430.11250  ppm   29.7192   -95.2775  \n",
       "3  2019-06-26T10:00:00-05:00       co2  432.49250  ppm   29.7192   -95.2775  \n",
       "4  2019-06-26T09:00:00-05:00       co2  438.77200  ppm   29.7192   -95.2775  "
      ]
     },
     "execution_count": 73,
     "metadata": {},
     "output_type": "execute_result"
    }
   ],
   "source": [
    "hco2.head()"
   ]
  },
  {
   "cell_type": "code",
   "execution_count": 74,
   "metadata": {},
   "outputs": [
    {
     "name": "stdout",
     "output_type": "stream",
     "text": [
      "<class 'pandas.core.frame.DataFrame'>\n",
      "RangeIndex: 7737 entries, 0 to 7736\n",
      "Data columns (total 11 columns):\n",
      " #   Column      Non-Null Count  Dtype  \n",
      "---  ------      --------------  -----  \n",
      " 0   locationId  7737 non-null   int64  \n",
      " 1   location    7737 non-null   object \n",
      " 2   city        7737 non-null   object \n",
      " 3   country     7737 non-null   object \n",
      " 4   utc         7737 non-null   object \n",
      " 5   local       7737 non-null   object \n",
      " 6   parameter   7737 non-null   object \n",
      " 7   value       7737 non-null   float64\n",
      " 8   unit        7737 non-null   object \n",
      " 9   latitude    7737 non-null   float64\n",
      " 10  longitude   7737 non-null   float64\n",
      "dtypes: float64(3), int64(1), object(7)\n",
      "memory usage: 665.0+ KB\n"
     ]
    }
   ],
   "source": [
    "hco2.info()"
   ]
  },
  {
   "cell_type": "code",
   "execution_count": 75,
   "metadata": {},
   "outputs": [
    {
     "data": {
      "text/plain": [
       "datetime\n",
       "2017    424.883077\n",
       "2018    436.221005\n",
       "2019    424.169336\n",
       "Name: value, dtype: float64"
      ]
     },
     "execution_count": 75,
     "metadata": {},
     "output_type": "execute_result"
    }
   ],
   "source": [
    "# Perform year mean at Richmond\n",
    "rco2 = rco2.rename(columns={\"utc\": \"datetime\"})\n",
    "rco2[\"datetime\"] = pd.to_datetime(rco2[\"datetime\"])\n",
    "rco2y = rco2.groupby([rco2[\"datetime\"].dt.year])[\"value\"].mean()\n",
    "rco2y"
   ]
  },
  {
   "cell_type": "code",
   "execution_count": 76,
   "metadata": {},
   "outputs": [
    {
     "data": {
      "text/plain": [
       "datetime\n",
       "2017    446.958049\n",
       "2018    425.884293\n",
       "2019    443.082857\n",
       "Name: value, dtype: float64"
      ]
     },
     "execution_count": 76,
     "metadata": {},
     "output_type": "execute_result"
    }
   ],
   "source": [
    "# Perform year mean at Houston\n",
    "hco2 = hco2.rename(columns={\"utc\": \"datetime\"})\n",
    "hco2[\"datetime\"] = pd.to_datetime(hco2[\"datetime\"])\n",
    "hco2y = hco2.groupby([hco2[\"datetime\"].dt.year])[\"value\"].mean()\n",
    "hco2y"
   ]
  },
  {
   "cell_type": "code",
   "execution_count": 77,
   "metadata": {},
   "outputs": [
    {
     "data": {
      "text/plain": [
       "datetime\n",
       "1     447.650516\n",
       "2     441.195639\n",
       "3     436.632154\n",
       "4     430.334754\n",
       "5     419.849926\n",
       "6     422.106014\n",
       "7     412.363401\n",
       "8     404.868004\n",
       "9     418.980129\n",
       "10    432.296935\n",
       "11    443.656644\n",
       "12    450.486958\n",
       "Name: value, dtype: float64"
      ]
     },
     "execution_count": 77,
     "metadata": {},
     "output_type": "execute_result"
    }
   ],
   "source": [
    "rco2m = rco2.groupby([rco2[\"datetime\"].dt.month])[\"value\"].mean()\n",
    "rco2m"
   ]
  },
  {
   "cell_type": "code",
   "execution_count": 78,
   "metadata": {},
   "outputs": [
    {
     "data": {
      "text/plain": [
       "datetime\n",
       "1     426.611326\n",
       "2     425.022572\n",
       "3     430.490426\n",
       "4     432.625320\n",
       "5     429.809025\n",
       "6     428.089846\n",
       "7     428.175629\n",
       "9     434.919780\n",
       "10    428.605673\n",
       "11    426.741763\n",
       "12    442.385869\n",
       "Name: value, dtype: float64"
      ]
     },
     "execution_count": 78,
     "metadata": {},
     "output_type": "execute_result"
    }
   ],
   "source": [
    "hco2m = hco2.groupby([hco2[\"datetime\"].dt.month])[\"value\"].mean()\n",
    "hco2m"
   ]
  },
  {
   "cell_type": "code",
   "execution_count": 85,
   "metadata": {},
   "outputs": [
    {
     "data": {
      "text/plain": [
       "Text(0, 0.5, 'CO2 Emissions in ppm')"
      ]
     },
     "execution_count": 85,
     "metadata": {},
     "output_type": "execute_result"
    },
    {
     "data": {
      "image/png": "[encoded data removed]",
      "text/plain": [
       "<Figure size 720x720 with 1 Axes>"
      ]
     },
     "metadata": {
      "needs_background": "light"
     },
     "output_type": "display_data"
    }
   ],
   "source": [
    "# Plot yearly mean for two cities\n",
    "rco2yl = list(rco2y)\n",
    "hco2yl = list(hco2y)\n",
    "years=list(np.arange(2017,2020))\n",
    "years = list(years)\n",
    "df1 = pd.DataFrame({'Richmond':rco2yl, 'Houston':hco2yl}, index = years)\n",
    "df123 = df1.plot(kind ='bar', figsize=(10,10))\n",
    "df123.set_xlabel(\"Year\")\n",
    "df123.set_ylabel(\"CO2 Emissions in ppm\")"
   ]
  },
  {
   "cell_type": "code",
   "execution_count": 80,
   "metadata": {},
   "outputs": [
    {
     "name": "stdout",
     "output_type": "stream",
     "text": [
      "Yearly Average Correlation Matrix:\n"
     ]
    },
    {
     "data": {
      "image/png": "[encoded data removed]",
      "text/plain": [
       "<Figure size 432x288 with 2 Axes>"
      ]
     },
     "metadata": {
      "needs_background": "light"
     },
     "output_type": "display_data"
    }
   ],
   "source": [
    "# yearly correlation\n",
    "yr_data =  pd.concat([rco2y, hco2y], axis = 1)\n",
    "yr_corr = yr_data.corr()\n",
    "print('Yearly Average Correlation Matrix:')\n",
    "sn.heatmap(yr_corr, annot=True) #creating a visualization to the correlation\n",
    "plt.show()"
   ]
  }
 ],
 "metadata": {
  "kernelspec": {
   "display_name": "Python 3",
   "language": "python",
   "name": "python3"
  },
  "language_info": {
   "codemirror_mode": {
    "name": "ipython",
    "version": 3
   },
   "file_extension": ".py",
   "mimetype": "text/x-python",
   "name": "python",
   "nbconvert_exporter": "python",
   "pygments_lexer": "ipython3",
   "version": "3.8.5"
  }
 },
 "nbformat": 4,
 "nbformat_minor": 4
}
