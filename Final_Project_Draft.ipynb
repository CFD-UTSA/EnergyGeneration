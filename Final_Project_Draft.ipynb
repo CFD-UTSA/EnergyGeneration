{
 "cells": [
  {
   "cell_type": "code",
   "execution_count": 1,
   "metadata": {},
   "outputs": [],
   "source": [
    "# importing necessary modules\n",
    "import pandas as pd\n",
    "import matplotlib.pyplot as plt\n",
    "import numpy as np\n",
    "import seaborn as sn\n",
    "import datetime as dt #for organizing data by date info\n",
    "from IPython.core.display import display\n",
    "from numpy.fft import fft, ifft  #for fft analysis"
   ]
  },
  {
   "cell_type": "code",
   "execution_count": 2,
   "metadata": {},
   "outputs": [],
   "source": [
    "# Extract Data\n",
    "energydata = pd.read_csv (r'C:\\Users\\rajpa\\Final_Project\\generation.csv')\n",
    "energydata = energydata.drop([0,1,2], axis = 0)"
   ]
  },
  {
   "cell_type": "code",
   "execution_count": 3,
   "metadata": {},
   "outputs": [
    {
     "data": {
      "text/html": [
       "<div>\n",
       "<style scoped>\n",
       "    .dataframe tbody tr th:only-of-type {\n",
       "        vertical-align: middle;\n",
       "    }\n",
       "\n",
       "    .dataframe tbody tr th {\n",
       "        vertical-align: top;\n",
       "    }\n",
       "\n",
       "    .dataframe thead th {\n",
       "        text-align: right;\n",
       "    }\n",
       "</style>\n",
       "<table border=\"1\" class=\"dataframe\">\n",
       "  <thead>\n",
       "    <tr style=\"text-align: right;\">\n",
       "      <th></th>\n",
       "      <th>EntityId</th>\n",
       "      <th>IsOfficial</th>\n",
       "      <th>isProjection</th>\n",
       "      <th>ShortName</th>\n",
       "      <th>Title</th>\n",
       "      <th>PublicationYear</th>\n",
       "      <th>Year</th>\n",
       "      <th>Technology</th>\n",
       "      <th>TechnologySubtype</th>\n",
       "      <th>PublicationUrl</th>\n",
       "      <th>...</th>\n",
       "      <th>FuelNote</th>\n",
       "      <th>GeneralOMNote</th>\n",
       "      <th>HeatRateNote</th>\n",
       "      <th>GeneralCostsNote</th>\n",
       "      <th>GeneralHeatRateEffNote</th>\n",
       "      <th>TechnologyNote</th>\n",
       "      <th>GeneralNote</th>\n",
       "      <th>AvgCapacityFactorNote</th>\n",
       "      <th>OnghtCptlCostDolPerKwNote</th>\n",
       "      <th>Scenario</th>\n",
       "    </tr>\n",
       "  </thead>\n",
       "  <tbody>\n",
       "    <tr>\n",
       "      <th>3</th>\n",
       "      <td>21178</td>\n",
       "      <td>0</td>\n",
       "      <td>1.0</td>\n",
       "      <td>EPA 2010</td>\n",
       "      <td>Environmental Protection Agency (2010). Data f...</td>\n",
       "      <td>2010</td>\n",
       "      <td>2027</td>\n",
       "      <td>Biopower</td>\n",
       "      <td>Biogas</td>\n",
       "      <td>http://www.epa.gov/airmarkt/progsregs/epa-ipm/...</td>\n",
       "      <td>...</td>\n",
       "      <td>NaN</td>\n",
       "      <td>NaN</td>\n",
       "      <td>NaN</td>\n",
       "      <td>NaN</td>\n",
       "      <td>NaN</td>\n",
       "      <td>NaN</td>\n",
       "      <td>NaN</td>\n",
       "      <td>NaN</td>\n",
       "      <td>NaN</td>\n",
       "      <td>NaN</td>\n",
       "    </tr>\n",
       "    <tr>\n",
       "      <th>4</th>\n",
       "      <td>21179</td>\n",
       "      <td>0</td>\n",
       "      <td>1.0</td>\n",
       "      <td>EPA 2010</td>\n",
       "      <td>Environmental Protection Agency (2010). Data f...</td>\n",
       "      <td>2010</td>\n",
       "      <td>2028</td>\n",
       "      <td>Biopower</td>\n",
       "      <td>Biogas</td>\n",
       "      <td>http://www.epa.gov/airmarkt/progsregs/epa-ipm/...</td>\n",
       "      <td>...</td>\n",
       "      <td>NaN</td>\n",
       "      <td>NaN</td>\n",
       "      <td>NaN</td>\n",
       "      <td>NaN</td>\n",
       "      <td>NaN</td>\n",
       "      <td>NaN</td>\n",
       "      <td>NaN</td>\n",
       "      <td>NaN</td>\n",
       "      <td>NaN</td>\n",
       "      <td>NaN</td>\n",
       "    </tr>\n",
       "    <tr>\n",
       "      <th>5</th>\n",
       "      <td>21180</td>\n",
       "      <td>0</td>\n",
       "      <td>1.0</td>\n",
       "      <td>EPA 2010</td>\n",
       "      <td>Environmental Protection Agency (2010). Data f...</td>\n",
       "      <td>2010</td>\n",
       "      <td>2029</td>\n",
       "      <td>Biopower</td>\n",
       "      <td>Biogas</td>\n",
       "      <td>http://www.epa.gov/airmarkt/progsregs/epa-ipm/...</td>\n",
       "      <td>...</td>\n",
       "      <td>NaN</td>\n",
       "      <td>NaN</td>\n",
       "      <td>NaN</td>\n",
       "      <td>NaN</td>\n",
       "      <td>NaN</td>\n",
       "      <td>NaN</td>\n",
       "      <td>NaN</td>\n",
       "      <td>NaN</td>\n",
       "      <td>NaN</td>\n",
       "      <td>NaN</td>\n",
       "    </tr>\n",
       "    <tr>\n",
       "      <th>6</th>\n",
       "      <td>21181</td>\n",
       "      <td>0</td>\n",
       "      <td>1.0</td>\n",
       "      <td>EPA 2010</td>\n",
       "      <td>Environmental Protection Agency (2010). Data f...</td>\n",
       "      <td>2010</td>\n",
       "      <td>2030</td>\n",
       "      <td>Biopower</td>\n",
       "      <td>Biogas</td>\n",
       "      <td>http://www.epa.gov/airmarkt/progsregs/epa-ipm/...</td>\n",
       "      <td>...</td>\n",
       "      <td>NaN</td>\n",
       "      <td>NaN</td>\n",
       "      <td>NaN</td>\n",
       "      <td>NaN</td>\n",
       "      <td>NaN</td>\n",
       "      <td>NaN</td>\n",
       "      <td>NaN</td>\n",
       "      <td>NaN</td>\n",
       "      <td>NaN</td>\n",
       "      <td>NaN</td>\n",
       "    </tr>\n",
       "    <tr>\n",
       "      <th>7</th>\n",
       "      <td>21182</td>\n",
       "      <td>0</td>\n",
       "      <td>1.0</td>\n",
       "      <td>EPA 2010</td>\n",
       "      <td>Environmental Protection Agency (2010). Data f...</td>\n",
       "      <td>2010</td>\n",
       "      <td>2031</td>\n",
       "      <td>Biopower</td>\n",
       "      <td>Biogas</td>\n",
       "      <td>http://www.epa.gov/airmarkt/progsregs/epa-ipm/...</td>\n",
       "      <td>...</td>\n",
       "      <td>NaN</td>\n",
       "      <td>NaN</td>\n",
       "      <td>NaN</td>\n",
       "      <td>NaN</td>\n",
       "      <td>NaN</td>\n",
       "      <td>NaN</td>\n",
       "      <td>NaN</td>\n",
       "      <td>NaN</td>\n",
       "      <td>NaN</td>\n",
       "      <td>NaN</td>\n",
       "    </tr>\n",
       "  </tbody>\n",
       "</table>\n",
       "<p>5 rows × 63 columns</p>\n",
       "</div>"
      ],
      "text/plain": [
       "  EntityId IsOfficial  isProjection ShortName  \\\n",
       "3    21178          0           1.0  EPA 2010   \n",
       "4    21179          0           1.0  EPA 2010   \n",
       "5    21180          0           1.0  EPA 2010   \n",
       "6    21181          0           1.0  EPA 2010   \n",
       "7    21182          0           1.0  EPA 2010   \n",
       "\n",
       "                                               Title PublicationYear  Year  \\\n",
       "3  Environmental Protection Agency (2010). Data f...            2010  2027   \n",
       "4  Environmental Protection Agency (2010). Data f...            2010  2028   \n",
       "5  Environmental Protection Agency (2010). Data f...            2010  2029   \n",
       "6  Environmental Protection Agency (2010). Data f...            2010  2030   \n",
       "7  Environmental Protection Agency (2010). Data f...            2010  2031   \n",
       "\n",
       "  Technology TechnologySubtype  \\\n",
       "3   Biopower            Biogas   \n",
       "4   Biopower            Biogas   \n",
       "5   Biopower            Biogas   \n",
       "6   Biopower            Biogas   \n",
       "7   Biopower            Biogas   \n",
       "\n",
       "                                      PublicationUrl  ... FuelNote  \\\n",
       "3  http://www.epa.gov/airmarkt/progsregs/epa-ipm/...  ...      NaN   \n",
       "4  http://www.epa.gov/airmarkt/progsregs/epa-ipm/...  ...      NaN   \n",
       "5  http://www.epa.gov/airmarkt/progsregs/epa-ipm/...  ...      NaN   \n",
       "6  http://www.epa.gov/airmarkt/progsregs/epa-ipm/...  ...      NaN   \n",
       "7  http://www.epa.gov/airmarkt/progsregs/epa-ipm/...  ...      NaN   \n",
       "\n",
       "  GeneralOMNote HeatRateNote GeneralCostsNote GeneralHeatRateEffNote  \\\n",
       "3           NaN          NaN              NaN                    NaN   \n",
       "4           NaN          NaN              NaN                    NaN   \n",
       "5           NaN          NaN              NaN                    NaN   \n",
       "6           NaN          NaN              NaN                    NaN   \n",
       "7           NaN          NaN              NaN                    NaN   \n",
       "\n",
       "  TechnologyNote GeneralNote AvgCapacityFactorNote OnghtCptlCostDolPerKwNote  \\\n",
       "3            NaN         NaN                   NaN                       NaN   \n",
       "4            NaN         NaN                   NaN                       NaN   \n",
       "5            NaN         NaN                   NaN                       NaN   \n",
       "6            NaN         NaN                   NaN                       NaN   \n",
       "7            NaN         NaN                   NaN                       NaN   \n",
       "\n",
       "  Scenario  \n",
       "3      NaN  \n",
       "4      NaN  \n",
       "5      NaN  \n",
       "6      NaN  \n",
       "7      NaN  \n",
       "\n",
       "[5 rows x 63 columns]"
      ]
     },
     "execution_count": 3,
     "metadata": {},
     "output_type": "execute_result"
    }
   ],
   "source": [
    "energydata.head()"
   ]
  },
  {
   "cell_type": "code",
   "execution_count": 4,
   "metadata": {},
   "outputs": [],
   "source": [
    "overnight_captial_cost = energydata[['PublicationYear', 'Year', 'Technology', 'OnghtCptlCostDolPerKw']]\n",
    "overnight_captial_cost.tail()\n",
    "OCC = overnight_captial_cost.dropna(subset = ['OnghtCptlCostDolPerKw'])"
   ]
  },
  {
   "cell_type": "code",
   "execution_count": 19,
   "metadata": {},
   "outputs": [
    {
     "name": "stdout",
     "output_type": "stream",
     "text": [
      "4828.952913683099\n"
     ]
    }
   ],
   "source": [
    "y = OCC.loc[overnight_captial_cost['Technology']=='Geothermal']\n",
    "y\n",
    "y.loc[:,'OnghtCptlCostDolPerKw'] = y.loc[:,'OnghtCptlCostDolPerKw'].astype(float)\n",
    "mean = y['OnghtCptlCostDolPerKw'].mean()\n",
    "print (mean)"
   ]
  },
  {
   "cell_type": "code",
   "execution_count": 20,
   "metadata": {},
   "outputs": [
    {
     "name": "stdout",
     "output_type": "stream",
     "text": [
      "4026.856361538029\n"
     ]
    }
   ],
   "source": [
    "y1 = OCC.loc[overnight_captial_cost['Technology']=='Nuclear']\n",
    "y1\n",
    "y1.loc[:,'OnghtCptlCostDolPerKw'] = y1.loc[:,'OnghtCptlCostDolPerKw'].astype(float)\n",
    "mean1 = y1['OnghtCptlCostDolPerKw'].mean()\n",
    "print (mean1)"
   ]
  },
  {
   "cell_type": "code",
   "execution_count": 21,
   "metadata": {},
   "outputs": [
    {
     "name": "stdout",
     "output_type": "stream",
     "text": [
      "1260.177001574686\n"
     ]
    }
   ],
   "source": [
    "y2 = OCC.loc[overnight_captial_cost['Technology']=='Combined Cycle']\n",
    "y2\n",
    "y2.loc[:,'OnghtCptlCostDolPerKw'] = y2.loc[:,'OnghtCptlCostDolPerKw'].astype(float)\n",
    "mean2 = y2['OnghtCptlCostDolPerKw'].mean()\n",
    "print (mean2)"
   ]
  },
  {
   "cell_type": "code",
   "execution_count": null,
   "metadata": {},
   "outputs": [],
   "source": []
  },
  {
   "cell_type": "code",
   "execution_count": 25,
   "metadata": {},
   "outputs": [
    {
     "name": "stdout",
     "output_type": "stream",
     "text": [
      "False\n"
     ]
    },
    {
     "data": {
      "image/png": "[encoded data removed]",
      "text/plain": [
       "<Figure size 432x288 with 1 Axes>"
      ]
     },
     "metadata": {
      "needs_background": "light"
     },
     "output_type": "display_data"
    },
    {
     "data": {
      "image/png": "[encoded data removed]",
      "text/plain": [
       "<Figure size 432x288 with 1 Axes>"
      ]
     },
     "metadata": {
      "needs_background": "light"
     },
     "output_type": "display_data"
    }
   ],
   "source": [
    "ax = y.plot.scatter(x = 'Technology' , y='OnghtCptlCostDolPerKw')\n",
    "ax1 = y1.plot.scatter(x = 'Technology' , y='OnghtCptlCostDolPerKw')\n",
    "print (ax == ax1)"
   ]
  },
  {
   "cell_type": "code",
   "execution_count": null,
   "metadata": {},
   "outputs": [],
   "source": []
  }
 ],
 "metadata": {
  "kernelspec": {
   "display_name": "Python 3",
   "language": "python",
   "name": "python3"
  },
  "language_info": {
   "codemirror_mode": {
    "name": "ipython",
    "version": 3
   },
   "file_extension": ".py",
   "mimetype": "text/x-python",
   "name": "python",
   "nbconvert_exporter": "python",
   "pygments_lexer": "ipython3",
   "version": "3.8.5"
  }
 },
 "nbformat": 4,
 "nbformat_minor": 4
}
